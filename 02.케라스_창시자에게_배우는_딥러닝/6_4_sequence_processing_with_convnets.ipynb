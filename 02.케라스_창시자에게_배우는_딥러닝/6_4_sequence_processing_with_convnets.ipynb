{
  "cells": [
    {
      "cell_type": "markdown",
      "metadata": {
        "id": "view-in-github",
        "colab_type": "text"
      },
      "source": [
        "<a href=\"https://colab.research.google.com/github/LeeHuiJong/-Deep_learning/blob/main/6_4_sequence_processing_with_convnets.ipynb\" target=\"_parent\"><img src=\"https://colab.research.google.com/assets/colab-badge.svg\" alt=\"Open In Colab\"/></a>"
      ]
    },
    {
      "cell_type": "markdown",
      "source": [
        "# 세팅\n",
        "---"
      ],
      "metadata": {
        "id": "16m7QEsKlcQW"
      }
    },
    {
      "cell_type": "markdown",
      "source": [
        "```\n",
        "! git clone https://github.com/yebiny/SkillTreePython-DeepLearning\n",
        "```"
      ],
      "metadata": {
        "id": "r6RjNGnQY3wc"
      }
    },
    {
      "cell_type": "code",
      "execution_count": null,
      "metadata": {
        "id": "lqjonRF6KbGY",
        "colab": {
          "base_uri": "https://localhost:8080/"
        },
        "outputId": "1a111fb5-07ca-464b-eef4-8c179e832f9a"
      },
      "outputs": [
        {
          "output_type": "stream",
          "name": "stdout",
          "text": [
            "Cloning into 'SkillTreePython-DeepLearning'...\n",
            "remote: Enumerating objects: 794, done.\u001b[K\n",
            "remote: Counting objects: 100% (367/367), done.\u001b[K\n",
            "remote: Compressing objects: 100% (179/179), done.\u001b[K\n",
            "remote: Total 794 (delta 222), reused 315 (delta 187), pack-reused 427\u001b[K\n",
            "Receiving objects: 100% (794/794), 41.83 MiB | 33.10 MiB/s, done.\n",
            "Resolving deltas: 100% (415/415), done.\n"
          ]
        }
      ],
      "source": [
        "! git clone https://github.com/yebiny/SkillTreePython-DeepLearning"
      ]
    },
    {
      "cell_type": "markdown",
      "source": [
        "```\n",
        "import sys\n",
        "sys.path.append('/content/SkillTreePython-DeepLearning/scripts')\n",
        "from import_lib import *\n",
        "from plot_result import *\n",
        "```"
      ],
      "metadata": {
        "id": "iDliBVhLlYiY"
      }
    },
    {
      "cell_type": "code",
      "source": [
        "import sys\n",
        "sys.path.append('/content/SkillTreePython-DeepLearning/scripts')\n",
        "from import_lib import *\n",
        "from plot_result import *"
      ],
      "metadata": {
        "id": "InMFlAq4Xwge"
      },
      "execution_count": 1,
      "outputs": []
    },
    {
      "cell_type": "markdown",
      "metadata": {
        "id": "t-vYBogEYVEf"
      },
      "source": [
        "# 컨브넷을 사용한 시퀀스 처리\n",
        "\n",
        "이 노트북은 [케라스 창시자에게 배우는 딥러닝](https://tensorflow.blog/%EC%BC%80%EB%9D%BC%EC%8A%A4-%EB%94%A5%EB%9F%AC%EB%8B%9D/) 책의 6장 4절의 코드 예제입니다. 책에는 더 많은 내용과 그림이 있습니다. 이 노트북에는 소스 코드에 관련된 설명만 포함합니다.\n",
        "\n",
        "\n",
        "## 1D 컨브넷 구현\n",
        "\n",
        "케라스에서 1D 컨브넷은 `Conv1D` 층을 사용하여 구현합니다. `Conv1D`는 `Conv2D`와 인터페이스가 비슷합니다. `(samples, time, features)` 크기의 3D 텐서를 입력받고 비슷한 형태의 3D 텐서를 반환합니다. 합성곱 윈도우는 시간 축의 1D 윈도우입니다. 즉, 입력 텐서의 두 번째 축입니다.\n",
        "\n",
        "간단한 두 개 층으로 된 1D 컨브넷을 만들어 익숙한 IMDB 감성 분류 문제에 적용해 보죠.\n",
        "\n",
        "기억을 되살리기 위해 데이터를 로드하고 전처리하는 코드를 다시 보겠습니다:"
      ]
    },
    {
      "cell_type": "code",
      "execution_count": null,
      "metadata": {
        "id": "O5SQypsoYVEg",
        "colab": {
          "base_uri": "https://localhost:8080/"
        },
        "outputId": "b62ff81d-a317-45f1-8bf4-6c12244f3bf9"
      },
      "outputs": [
        {
          "output_type": "stream",
          "name": "stdout",
          "text": [
            "데이터 로드...\n",
            "Downloading data from https://storage.googleapis.com/tensorflow/tf-keras-datasets/imdb.npz\n",
            "17465344/17464789 [==============================] - 0s 0us/step\n",
            "17473536/17464789 [==============================] - 0s 0us/step\n",
            "25000 훈련 시퀀스\n",
            "25000 테스트 시퀀스\n",
            "시퀀스 패딩 (samples x time)\n",
            "x_train 크기: (25000, 500)\n",
            "x_test 크기: (25000, 500)\n"
          ]
        }
      ],
      "source": [
        "max_features = 10000  # 특성으로 사용할 단어의 수\n",
        "max_len = 500  # 사용할 텍스트의 길이(가장 빈번한 max_features 개의 단어만 사용합니다)\n",
        "\n",
        "imdb = tf.keras.datasets.imdb\n",
        "print('데이터 로드...')\n",
        "(x_train, y_train), (x_test, y_test) = imdb.load_data(num_words=max_features)\n",
        "print(len(x_train), '훈련 시퀀스')\n",
        "print(len(x_test), '테스트 시퀀스')\n",
        "\n",
        "print('시퀀스 패딩 (samples x time)')\n",
        "x_train = preprocessing.sequence.pad_sequences(x_train, maxlen=max_len)\n",
        "x_test = preprocessing.sequence.pad_sequences(x_test, maxlen=max_len)\n",
        "print('x_train 크기:', x_train.shape)\n",
        "print('x_test 크기:', x_test.shape)"
      ]
    },
    {
      "cell_type": "markdown",
      "metadata": {
        "id": "I0ZzgHdlYVEh"
      },
      "source": [
        "1D 컨브넷은 5장에서 사용한 2D 컨브넷과 비슷한 방식으로 구성합니다. `Conv1D`와 `MaxPooling1D` 층을 쌓고 전역 풀링 층이나 `Flatten` 층으로 마칩니다. 이 구조는 3D 입력을 2D 출력으로 바꾸므로 분류나 회귀를 위해 모델에 하나 이상의 `Dense` 층을 추가할 수 있습니다.\n",
        "\n",
        "한 가지 다른 점은 1D 컨브넷에 큰 합성곱 윈도우를 사용할 수 있다는 것입니다. 2D 합성곱 층에서 3 × 3 합성곱 윈도우는 3 × 3 = 9 특성을 고려합니다. 하지만 1D 합성곱 층에서 크기 3인 합성곱 윈도우는 3개의 특성만 고려합니다. 그래서 1D 합성곱에 크기 7이나 9의 윈도우를 사용할 수 있습니다.\n",
        "\n",
        "다음은 IMDB 데이터셋을 위한 1D 컨브넷의 예입니다:"
      ]
    },
    {
      "cell_type": "code",
      "execution_count": null,
      "metadata": {
        "id": "XgCE247VYVEi",
        "colab": {
          "base_uri": "https://localhost:8080/"
        },
        "outputId": "aa692f3f-8ecc-49fa-f8a3-e9372aab4682"
      },
      "outputs": [
        {
          "output_type": "stream",
          "name": "stdout",
          "text": [
            "Model: \"model_1\"\n",
            "_________________________________________________________________\n",
            " Layer (type)                Output Shape              Param #   \n",
            "=================================================================\n",
            " input_4 (InputLayer)        [(None, 500)]             0         \n",
            "                                                                 \n",
            " embedding_3 (Embedding)     (None, 500, 128)          1280000   \n",
            "                                                                 \n",
            " conv1d_3 (Conv1D)           (None, 494, 32)           28704     \n",
            "                                                                 \n",
            " max_pooling1d (MaxPooling1D  (None, 98, 32)           0         \n",
            " )                                                               \n",
            "                                                                 \n",
            " conv1d_4 (Conv1D)           (None, 92, 32)            7200      \n",
            "                                                                 \n",
            " global_average_pooling1d (G  (None, 32)               0         \n",
            " lobalAveragePooling1D)                                          \n",
            "                                                                 \n",
            " dense (Dense)               (None, 1)                 33        \n",
            "                                                                 \n",
            "=================================================================\n",
            "Total params: 1,315,937\n",
            "Trainable params: 1,315,937\n",
            "Non-trainable params: 0\n",
            "_________________________________________________________________\n"
          ]
        }
      ],
      "source": [
        "x = layers.Input(shape=(max_len))\n",
        "y = layers.Embedding(max_features, 128,)(x)\n",
        "y = layers.Conv1D(32, 7, activation = 'relu')(y)\n",
        "y = layers.MaxPool1D(5)(y)\n",
        "y = layers.Conv1D(32, 7, activation = 'relu')(y)\n",
        "y = layers.GlobalAveragePooling1D()(y)\n",
        "y = layers.Dense(1, activation = 'sigmoid')(y) # 긍정, 부정 두가지 클래스 예측\n",
        "\n",
        "model = models.Model(x,y)\n",
        "model.summary()"
      ]
    },
    {
      "cell_type": "code",
      "source": [
        "model.compile(optimizer = tf.keras.optimizers.RMSprop(learning_rate=1e-4),\n",
        "              loss = 'binary_crossentropy',\n",
        "              metrics = ['acc']\n",
        "              )\n",
        "history = model.fit(x_train, y_train,\n",
        "                    epochs = 20,\n",
        "                    batch_size = 128,\n",
        "                    validation_data = (x_test, y_test))\n",
        "plot_lcurve([history], ['conv1d'], ['dodgerblue'], x_itv = 5)"
      ],
      "metadata": {
        "colab": {
          "base_uri": "https://localhost:8080/",
          "height": 1000
        },
        "id": "YeddI8P4IMYy",
        "outputId": "2f6d5e38-a696-46f2-e866-a7ec7a96b790"
      },
      "execution_count": null,
      "outputs": [
        {
          "output_type": "stream",
          "name": "stdout",
          "text": [
            "Epoch 1/20\n",
            "196/196 [==============================] - 3s 13ms/step - loss: 0.0886 - acc: 0.9714 - val_loss: 0.5408 - val_acc: 0.8488\n",
            "Epoch 2/20\n",
            "196/196 [==============================] - 2s 12ms/step - loss: 0.0863 - acc: 0.9721 - val_loss: 0.5517 - val_acc: 0.8472\n",
            "Epoch 3/20\n",
            "196/196 [==============================] - 2s 12ms/step - loss: 0.0842 - acc: 0.9727 - val_loss: 0.5726 - val_acc: 0.8444\n",
            "Epoch 4/20\n",
            "196/196 [==============================] - 2s 12ms/step - loss: 0.0824 - acc: 0.9735 - val_loss: 0.5707 - val_acc: 0.8453\n",
            "Epoch 5/20\n",
            "196/196 [==============================] - 2s 12ms/step - loss: 0.0806 - acc: 0.9745 - val_loss: 0.6359 - val_acc: 0.8326\n",
            "Epoch 6/20\n",
            "196/196 [==============================] - 2s 12ms/step - loss: 0.0787 - acc: 0.9752 - val_loss: 0.5892 - val_acc: 0.8447\n",
            "Epoch 7/20\n",
            "196/196 [==============================] - 2s 12ms/step - loss: 0.0768 - acc: 0.9756 - val_loss: 0.6225 - val_acc: 0.8390\n",
            "Epoch 8/20\n",
            "196/196 [==============================] - 2s 12ms/step - loss: 0.0753 - acc: 0.9758 - val_loss: 0.6233 - val_acc: 0.8396\n",
            "Epoch 9/20\n",
            "196/196 [==============================] - 2s 12ms/step - loss: 0.0738 - acc: 0.9767 - val_loss: 0.6205 - val_acc: 0.8419\n",
            "Epoch 10/20\n",
            "196/196 [==============================] - 2s 12ms/step - loss: 0.0720 - acc: 0.9780 - val_loss: 0.6468 - val_acc: 0.8388\n",
            "Epoch 11/20\n",
            "196/196 [==============================] - 2s 12ms/step - loss: 0.0706 - acc: 0.9778 - val_loss: 0.6407 - val_acc: 0.8414\n",
            "Epoch 12/20\n",
            "196/196 [==============================] - 2s 12ms/step - loss: 0.0691 - acc: 0.9786 - val_loss: 0.6556 - val_acc: 0.8398\n",
            "Epoch 13/20\n",
            "196/196 [==============================] - 2s 12ms/step - loss: 0.0674 - acc: 0.9784 - val_loss: 0.6681 - val_acc: 0.8382\n",
            "Epoch 14/20\n",
            "196/196 [==============================] - 2s 12ms/step - loss: 0.0658 - acc: 0.9790 - val_loss: 0.6838 - val_acc: 0.8359\n",
            "Epoch 15/20\n",
            "196/196 [==============================] - 2s 12ms/step - loss: 0.0640 - acc: 0.9800 - val_loss: 0.6812 - val_acc: 0.8386\n",
            "Epoch 16/20\n",
            "196/196 [==============================] - 2s 13ms/step - loss: 0.0631 - acc: 0.9801 - val_loss: 0.6923 - val_acc: 0.8394\n",
            "Epoch 17/20\n",
            "196/196 [==============================] - 2s 12ms/step - loss: 0.0616 - acc: 0.9806 - val_loss: 0.7274 - val_acc: 0.8315\n",
            "Epoch 18/20\n",
            "196/196 [==============================] - 2s 12ms/step - loss: 0.0603 - acc: 0.9815 - val_loss: 0.7309 - val_acc: 0.8324\n",
            "Epoch 19/20\n",
            "196/196 [==============================] - 2s 12ms/step - loss: 0.0584 - acc: 0.9817 - val_loss: 0.7221 - val_acc: 0.8376\n",
            "Epoch 20/20\n",
            "196/196 [==============================] - 2s 12ms/step - loss: 0.0576 - acc: 0.9824 - val_loss: 0.7403 - val_acc: 0.8374\n"
          ]
        },
        {
          "output_type": "display_data",
          "data": {
            "text/plain": [
              "<Figure size 864x288 with 2 Axes>"
            ],
            "image/png": "[encoded data removed]"
          },
          "metadata": {
            "needs_background": "light"
          }
        }
      ]
    },
    {
      "cell_type": "markdown",
      "metadata": {
        "id": "7h3UU5eRYVEi"
      },
      "source": [
        "그림 6-27과 6-28은 훈련과 검증 결과를 보여줍니다. 검증 정확도는 LSTM보다 조금 낮지만 CPU나 GPU에서 더 빠르게 실행됩니다(속도 향상은 환경에 따라 많이 다릅니다). 여기에서 적절한 에포크 수(4개)로 모델을 다시 훈련하고 테스트 세트에서 확인할 수 있습니다. 이 예는 단어 수준의 감성 분류 작업에 순환 네트워크를 대신하여 빠르고 경제적인 1D 컨브넷을 사용할 수 있음을 보여줍니다."
      ]
    },
    {
      "cell_type": "markdown",
      "metadata": {
        "id": "AwQcgStyYVEk"
      },
      "source": [
        "## CNN과 RNN을 연결하여 긴 시퀀스를 처리하기\n",
        "\n",
        "1D 컨브넷이 입력 패치를 독립적으로 처리하기 때문에 RNN과 달리 (합성곱 윈도우 크기의 범위를 넘어선) 타임스텝의 순서에 민감하지 않습니다. 물론 장기간 패턴을 인식하기 위해 많은 합성곱 층과 풀링 층을 쌓을 수 있습니다. 상위 층은 원본 입력에서 긴 범위를 보게 될 것입니다. 이런 방법은 순서를 감지하기엔 부족합니다. 온도 예측 문제에 1D 컨브넷을 적용하여 이를 확인해 보겠습니다. 이 문제는 순서를 감지해야 좋은 예측을 만들어 낼 수 있습니다. 다음은 이전에 정의한 float_data, train_gen, val_gen, val_steps를 다시 사용합니다:"
      ]
    },
    {
      "cell_type": "markdown",
      "metadata": {
        "id": "P1AoQ3LlYVEm"
      },
      "source": [
        "이 기법이 연구 논문이나 실전 애플리케이션에 자주 등장하지는 않습니다. 아마도 널리 알려지지 않았기 때문일 것입니다. 이 방법은 효과적이므로 많이 사용되기를 바랍니다. 온도 예측 문제에 적용해 보죠. 이 전략은 훨씬 긴 시퀀스를 다룰 수 있으므로 더 오래전 데이터를 바라보거나(데이터 제너레이터의 `lookback` 매개변수를 증가시킵니다), 시계열 데이터를 더 촘촘히 바라볼 수 있습니다(제너레이터의 `step` 매개변수를 감소시킵니다). 여기서는 그냥 `step`을 절반으로 줄여서 사용하겠습니다. 온도 데이터가 30분마다 1 포인트씩 샘플링되기 때문에 결과 시계열 데이터는 두 배로 길어집니다. 앞서 정의한 제너레이터 함수를 다시 사용합니다."
      ]
    },
    {
      "cell_type": "markdown",
      "metadata": {
        "id": "DnL6DVjTYVEn"
      },
      "source": [
        "이 모델은 두 개의 `Conv1D` 층 다음에 `GRU` 층을 놓았습니다:"
      ]
    },
    {
      "cell_type": "code",
      "execution_count": null,
      "metadata": {
        "id": "BqI8oWI6YVEn",
        "colab": {
          "base_uri": "https://localhost:8080/",
          "height": 1000
        },
        "outputId": "95a33f89-3077-41d5-d777-dce130244808"
      },
      "outputs": [
        {
          "output_type": "stream",
          "name": "stdout",
          "text": [
            "Model: \"model_2\"\n",
            "_________________________________________________________________\n",
            " Layer (type)                Output Shape              Param #   \n",
            "=================================================================\n",
            " input_5 (InputLayer)        [(None, 500)]             0         \n",
            "                                                                 \n",
            " embedding_4 (Embedding)     (None, 500, 128)          1280000   \n",
            "                                                                 \n",
            " conv1d_5 (Conv1D)           (None, 494, 32)           28704     \n",
            "                                                                 \n",
            " max_pooling1d_1 (MaxPooling  (None, 98, 32)           0         \n",
            " 1D)                                                             \n",
            "                                                                 \n",
            " conv1d_6 (Conv1D)           (None, 92, 32)            7200      \n",
            "                                                                 \n",
            " gru (GRU)                   (None, 32)                6336      \n",
            "                                                                 \n",
            " dense_1 (Dense)             (None, 1)                 33        \n",
            "                                                                 \n",
            "=================================================================\n",
            "Total params: 1,322,273\n",
            "Trainable params: 1,322,273\n",
            "Non-trainable params: 0\n",
            "_________________________________________________________________\n",
            "Epoch 1/20\n",
            "196/196 [==============================] - 7s 19ms/step - loss: 0.6920 - acc: 0.5387 - val_loss: 0.6892 - val_acc: 0.5594\n",
            "Epoch 2/20\n",
            "196/196 [==============================] - 4s 20ms/step - loss: 0.6633 - acc: 0.6658 - val_loss: 0.6141 - val_acc: 0.7014\n",
            "Epoch 3/20\n",
            "196/196 [==============================] - 3s 18ms/step - loss: 0.4944 - acc: 0.7770 - val_loss: 0.4099 - val_acc: 0.8140\n",
            "Epoch 4/20\n",
            "196/196 [==============================] - 4s 20ms/step - loss: 0.3261 - acc: 0.8634 - val_loss: 0.3410 - val_acc: 0.8536\n",
            "Epoch 5/20\n",
            "196/196 [==============================] - 4s 20ms/step - loss: 0.2672 - acc: 0.8941 - val_loss: 0.3212 - val_acc: 0.8637\n",
            "Epoch 6/20\n",
            "196/196 [==============================] - 3s 17ms/step - loss: 0.2273 - acc: 0.9138 - val_loss: 0.3474 - val_acc: 0.8512\n",
            "Epoch 7/20\n",
            "196/196 [==============================] - 4s 20ms/step - loss: 0.1989 - acc: 0.9266 - val_loss: 0.3278 - val_acc: 0.8666\n",
            "Epoch 8/20\n",
            "196/196 [==============================] - 4s 19ms/step - loss: 0.1729 - acc: 0.9378 - val_loss: 0.3319 - val_acc: 0.8666\n",
            "Epoch 9/20\n",
            "196/196 [==============================] - 3s 17ms/step - loss: 0.1546 - acc: 0.9470 - val_loss: 0.3779 - val_acc: 0.8527\n",
            "Epoch 10/20\n",
            "196/196 [==============================] - 4s 20ms/step - loss: 0.1389 - acc: 0.9528 - val_loss: 0.3705 - val_acc: 0.8607\n",
            "Epoch 11/20\n",
            "196/196 [==============================] - 4s 20ms/step - loss: 0.1222 - acc: 0.9600 - val_loss: 0.3801 - val_acc: 0.8612\n",
            "Epoch 12/20\n",
            "196/196 [==============================] - 3s 17ms/step - loss: 0.1090 - acc: 0.9642 - val_loss: 0.4154 - val_acc: 0.8483\n",
            "Epoch 13/20\n",
            "196/196 [==============================] - 4s 20ms/step - loss: 0.0957 - acc: 0.9698 - val_loss: 0.4156 - val_acc: 0.8579\n",
            "Epoch 14/20\n",
            "196/196 [==============================] - 3s 17ms/step - loss: 0.0849 - acc: 0.9741 - val_loss: 0.4415 - val_acc: 0.8496\n",
            "Epoch 15/20\n",
            "196/196 [==============================] - 4s 20ms/step - loss: 0.0738 - acc: 0.9783 - val_loss: 0.5863 - val_acc: 0.8176\n",
            "Epoch 16/20\n",
            "196/196 [==============================] - 3s 17ms/step - loss: 0.0634 - acc: 0.9817 - val_loss: 0.5221 - val_acc: 0.8425\n",
            "Epoch 17/20\n",
            "196/196 [==============================] - 3s 17ms/step - loss: 0.0585 - acc: 0.9833 - val_loss: 0.4874 - val_acc: 0.8507\n",
            "Epoch 18/20\n",
            "196/196 [==============================] - 4s 20ms/step - loss: 0.0492 - acc: 0.9865 - val_loss: 0.5675 - val_acc: 0.8318\n",
            "Epoch 19/20\n",
            "196/196 [==============================] - 3s 17ms/step - loss: 0.0433 - acc: 0.9884 - val_loss: 0.5262 - val_acc: 0.8436\n",
            "Epoch 20/20\n",
            "196/196 [==============================] - 4s 20ms/step - loss: 0.0363 - acc: 0.9906 - val_loss: 0.5580 - val_acc: 0.8466\n"
          ]
        },
        {
          "output_type": "display_data",
          "data": {
            "text/plain": [
              "<Figure size 864x288 with 2 Axes>"
            ],
            "image/png": "[encoded data removed]"
          },
          "metadata": {
            "needs_background": "light"
          }
        }
      ],
      "source": [
        "x = layers.Input(shape=(max_len))\n",
        "y = layers.Embedding(max_features, 128,)(x)\n",
        "y = layers.Conv1D(32, 7, activation = 'relu')(y)\n",
        "y = layers.MaxPool1D(5)(y)\n",
        "y = layers.Conv1D(32, 7, activation = 'relu')(y)\n",
        "y = layers.GRU(32, dropout = 0.2)(y)\n",
        "y = layers.Dense(1, activation = 'sigmoid')(y) # 긍정, 부정 두가지 클래스 예측\n",
        "\n",
        "model = models.Model(x,y)\n",
        "model.summary()\n",
        "\n",
        "model.compile(optimizer = tf.keras.optimizers.RMSprop(learning_rate=1e-4),\n",
        "              loss = 'binary_crossentropy',\n",
        "              metrics = ['acc']\n",
        "              )\n",
        "history = model.fit(x_train, y_train,\n",
        "                    epochs = 20,\n",
        "                    batch_size = 128,\n",
        "                    validation_data = (x_test, y_test))\n",
        "plot_lcurve([history], ['conv1d+gru'], ['dodgerblue'], x_itv = 5)"
      ]
    },
    {
      "cell_type": "markdown",
      "metadata": {
        "id": "iBcUywmIYVEo"
      },
      "source": [
        "검증 손실로 비교해 보면 이 설정은 규제가 있는 GRU 모델만큼 좋지는 않습니다. 하지만 훨씬 빠르기 때문에 데이터를 두 배 더 많이 처리할 수 있습니다. 여기서는 큰 도움이 안 되었지만 다른 데이터셋에서는 중요할 수 있습니다."
      ]
    },
    {
      "cell_type": "markdown",
      "metadata": {
        "id": "GGnuZYu7YVEo"
      },
      "source": [
        "## 정리\n",
        "\n",
        "다음은 이번 절에서 배운 것들입니다.\n",
        "\n",
        "* 2D 컨브넷이 2D 공간의 시각적 패턴을 잘 처리하는 것과 같이 1D 컨브넷은 시간에 따른 패턴을 잘 처리합니다. 1D 컨브넷은 특정 자연어 처리 같은 일부 문제에 RNN을 대신할 수 있는 빠른 모델입니다.\n",
        "* 전형적으로 1D 컨브넷은 컴퓨터 비전 분야의 2D 컨브넷과 비슷하게 구성합니다. `Conv1D` 층과 `Max-Pooling1D` 층을 쌓고 마지막에 전역 풀링 연산이나 `Flatten` 층을 둡니다.\n",
        "* RNN으로 아주 긴 시퀀스를 처리하려면 계산 비용이 많이 듭니다. 1D 컨브넷은 비용이 적게 듭니다. 따라서 1D 컨브넷을 RNN 이전의 전처리 단계로 사용하는 것은 좋은 생각입니다. 시퀀스 길이를 줄이고 RNN이 처리할 유용한 표현을 추출해 줄 것입니다.\n",
        "\n",
        "유용하고 중요한 개념이지만 여기서 다루지 않은 것은 팽창 커널을 사용한 1D 합성곱입니다."
      ]
    },
    {
      "cell_type": "code",
      "source": [
        "x = layers.Input(shape=(max_len))\n",
        "y = layers.Embedding(max_features, 128,)(x)\n",
        "\n",
        "y1 = layers.Conv1D(32, 7, activation = 'relu')(y)\n",
        "y1 = layers.MaxPool1D(5)(y1)\n",
        "\n",
        "y2 = layers.Conv1D(32, 7, activation = 'relu')(y)\n",
        "y2 = layers.MaxPool1D(5)(y2)\n",
        "\n",
        "y = layers.concatenate([y1, y2])\n",
        "y = layers.GlobalAveragePooling1D()(y)\n",
        "y = layers.Dense(1, activation = 'sigmoid')(y) # 긍정, 부정 두가지 클래스 예측\n",
        "\n",
        "model = models.Model(x,y)\n",
        "model.summary()\n",
        "utils.plot_model(model, show_shapes = True)"
      ],
      "metadata": {
        "id": "mAIj-EXewBjh"
      },
      "execution_count": null,
      "outputs": []
    },
    {
      "cell_type": "code",
      "source": [
        "model.compile(optimizer = tf.keras.optimizers.RMSprop(learning_rate=1e-4),\n",
        "              loss = 'binary_crossentropy',\n",
        "              metrics = ['acc']\n",
        "              )\n",
        "history = model.fit(x_train, y_train,\n",
        "                    epochs = 20,\n",
        "                    batch_size = 128,\n",
        "                    validation_data = (x_test, y_test))\n",
        "plot_lcurve([history], ['conv1d_parallel'], ['dodgerblue'], x_itv = 5)"
      ],
      "metadata": {
        "colab": {
          "base_uri": "https://localhost:8080/",
          "height": 1000
        },
        "id": "sJS23gA1M1Qp",
        "outputId": "c894848a-15e1-4bec-beba-f6272c872f8c"
      },
      "execution_count": null,
      "outputs": [
        {
          "output_type": "stream",
          "name": "stdout",
          "text": [
            "Epoch 1/20\n",
            "196/196 [==============================] - 5s 20ms/step - loss: 0.6894 - acc: 0.5711 - val_loss: 0.6833 - val_acc: 0.6048\n",
            "Epoch 2/20\n",
            "196/196 [==============================] - 3s 15ms/step - loss: 0.6678 - acc: 0.6928 - val_loss: 0.6525 - val_acc: 0.7488\n",
            "Epoch 3/20\n",
            "196/196 [==============================] - 4s 18ms/step - loss: 0.6232 - acc: 0.7768 - val_loss: 0.6008 - val_acc: 0.7857\n",
            "Epoch 4/20\n",
            "196/196 [==============================] - 4s 18ms/step - loss: 0.5591 - acc: 0.8129 - val_loss: 0.5356 - val_acc: 0.8143\n",
            "Epoch 5/20\n",
            "196/196 [==============================] - 3s 15ms/step - loss: 0.4880 - acc: 0.8396 - val_loss: 0.4736 - val_acc: 0.8347\n",
            "Epoch 6/20\n",
            "196/196 [==============================] - 3s 15ms/step - loss: 0.4246 - acc: 0.8589 - val_loss: 0.4217 - val_acc: 0.8493\n",
            "Epoch 7/20\n",
            "196/196 [==============================] - 3s 15ms/step - loss: 0.3749 - acc: 0.8729 - val_loss: 0.3845 - val_acc: 0.8582\n",
            "Epoch 8/20\n",
            "196/196 [==============================] - 3s 15ms/step - loss: 0.3391 - acc: 0.8804 - val_loss: 0.3600 - val_acc: 0.8644\n",
            "Epoch 9/20\n",
            "196/196 [==============================] - 4s 18ms/step - loss: 0.3130 - acc: 0.8881 - val_loss: 0.3420 - val_acc: 0.8694\n",
            "Epoch 10/20\n",
            "196/196 [==============================] - 4s 18ms/step - loss: 0.2929 - acc: 0.8950 - val_loss: 0.3289 - val_acc: 0.8722\n",
            "Epoch 11/20\n",
            "196/196 [==============================] - 3s 15ms/step - loss: 0.2766 - acc: 0.8996 - val_loss: 0.3189 - val_acc: 0.8758\n",
            "Epoch 12/20\n",
            "196/196 [==============================] - 3s 15ms/step - loss: 0.2631 - acc: 0.9043 - val_loss: 0.3116 - val_acc: 0.8782\n",
            "Epoch 13/20\n",
            "196/196 [==============================] - 3s 15ms/step - loss: 0.2516 - acc: 0.9088 - val_loss: 0.3064 - val_acc: 0.8796\n",
            "Epoch 14/20\n",
            "196/196 [==============================] - 3s 15ms/step - loss: 0.2419 - acc: 0.9124 - val_loss: 0.3029 - val_acc: 0.8806\n",
            "Epoch 15/20\n",
            "196/196 [==============================] - 4s 18ms/step - loss: 0.2331 - acc: 0.9157 - val_loss: 0.3002 - val_acc: 0.8804\n",
            "Epoch 16/20\n",
            "196/196 [==============================] - 4s 18ms/step - loss: 0.2251 - acc: 0.9189 - val_loss: 0.2998 - val_acc: 0.8822\n",
            "Epoch 17/20\n",
            "196/196 [==============================] - 3s 15ms/step - loss: 0.2178 - acc: 0.9210 - val_loss: 0.2957 - val_acc: 0.8827\n",
            "Epoch 18/20\n",
            "196/196 [==============================] - 3s 15ms/step - loss: 0.2111 - acc: 0.9235 - val_loss: 0.2948 - val_acc: 0.8836\n",
            "Epoch 19/20\n",
            "196/196 [==============================] - 3s 15ms/step - loss: 0.2050 - acc: 0.9263 - val_loss: 0.2958 - val_acc: 0.8842\n",
            "Epoch 20/20\n",
            "196/196 [==============================] - 3s 15ms/step - loss: 0.1994 - acc: 0.9279 - val_loss: 0.2969 - val_acc: 0.8836\n"
          ]
        },
        {
          "output_type": "display_data",
          "data": {
            "text/plain": [
              "<Figure size 864x288 with 2 Axes>"
            ],
            "image/png": "[encoded data removed]"
          },
          "metadata": {
            "needs_background": "light"
          }
        }
      ]
    },
    {
      "cell_type": "markdown",
      "source": [
        "## 시계열 데이터 분석\n",
        "---"
      ],
      "metadata": {
        "id": "BiCJuR7ywB4z"
      }
    },
    {
      "cell_type": "code",
      "source": [
        "! git clone https://github.com/gilbutITbook/006975.git"
      ],
      "metadata": {
        "colab": {
          "base_uri": "https://localhost:8080/"
        },
        "id": "XPM8ktY_wDXG",
        "outputId": "1eefe8c5-bf09-452d-aa58-6dd82908ac28"
      },
      "execution_count": 2,
      "outputs": [
        {
          "output_type": "stream",
          "name": "stdout",
          "text": [
            "fatal: destination path '006975' already exists and is not an empty directory.\n"
          ]
        }
      ]
    },
    {
      "cell_type": "code",
      "source": [
        "data_dir = '/content/006975/datasets/jena_climate/'\n",
        "fname = os.path.join(data_dir, 'jena_climate_2009_2016.csv')\n",
        "\n",
        "f = open(fname)\n",
        "data = f.read()\n",
        "f.close()\n",
        "\n",
        "lines = data.split('\\n')\n",
        "header = lines[0].split(',')\n",
        "lines = lines[1:]\n",
        "\n",
        "print(header)\n",
        "print(len(lines))\n",
        "\n",
        "float_data = np.zeros((len(lines), len(header) - 1))\n",
        "for i, line in enumerate(lines):\n",
        "    values = [float(x) for x in line.split(',')[1:]]\n",
        "    float_data[i, :] = values\n",
        "\n",
        "mean = float_data[:200000].mean(axis=0)\n",
        "float_data -= mean\n",
        "std = float_data[:200000].std(axis=0)\n",
        "float_data /= std\n",
        "\n",
        "\n",
        "def generator(data, lookback, delay, min_index, max_index,\n",
        "              shuffle=False, batch_size=128, step=6):\n",
        "    if max_index is None:\n",
        "        max_index = len(data) - delay - 1\n",
        "    i = min_index + lookback\n",
        "    while 1:\n",
        "        if shuffle:\n",
        "            rows = np.random.randint(\n",
        "                min_index + lookback, max_index, size=batch_size)\n",
        "        else:\n",
        "            if i + batch_size >= max_index:\n",
        "                i = min_index + lookback\n",
        "            rows = np.arange(i, min(i + batch_size, max_index))\n",
        "            i += len(rows)\n",
        "\n",
        "        samples = np.zeros((len(rows),\n",
        "                           lookback // step,\n",
        "                           data.shape[-1]))\n",
        "        targets = np.zeros((len(rows),))\n",
        "        for j, row in enumerate(rows):\n",
        "            indices = range(rows[j] - lookback, rows[j], step)\n",
        "            samples[j] = data[indices]\n",
        "            targets[j] = data[rows[j] + delay][1]\n",
        "        yield samples, targets\n",
        "\n",
        "lookback = 1440\n",
        "step = 6\n",
        "delay = 144\n",
        "batch_size = 128\n",
        "\n",
        "train_gen = generator(float_data,\n",
        "                      lookback=lookback,\n",
        "                      delay=delay,\n",
        "                      min_index=0,\n",
        "                      max_index=200000,\n",
        "                      shuffle=True,\n",
        "                      step=step, \n",
        "                      batch_size=batch_size)\n",
        "val_gen = generator(float_data,\n",
        "                    lookback=lookback,\n",
        "                    delay=delay,\n",
        "                    min_index=200001,\n",
        "                    max_index=300000,\n",
        "                    step=step,\n",
        "                    batch_size=batch_size)\n",
        "test_gen = generator(float_data,\n",
        "                     lookback=lookback,\n",
        "                     delay=delay,\n",
        "                     min_index=300001,\n",
        "                     max_index=None,\n",
        "                     step=step,\n",
        "                     batch_size=batch_size)\n",
        "\n",
        "# 전체 검증 세트를 순회하기 위해 val_gen에서 추출할 횟수\n",
        "val_steps = (300000 - 200001 - lookback) // batch_size\n",
        "\n",
        "# 전체 테스트 세트를 순회하기 위해 test_gen에서 추출할 횟수\n",
        "test_steps = (len(float_data) - 300001 - lookback) // batch_size\n",
        "\n",
        "for samples, targets in train_gen:\n",
        "  print(samples.shape, targets.shape)\n",
        "  break"
      ],
      "metadata": {
        "id": "9gAHwgljwTPE",
        "colab": {
          "base_uri": "https://localhost:8080/"
        },
        "outputId": "0c48a31c-798c-4ab6-870d-711db0a0701d"
      },
      "execution_count": 3,
      "outputs": [
        {
          "output_type": "stream",
          "name": "stdout",
          "text": [
            "['\"Date Time\"', '\"p (mbar)\"', '\"T (degC)\"', '\"Tpot (K)\"', '\"Tdew (degC)\"', '\"rh (%)\"', '\"VPmax (mbar)\"', '\"VPact (mbar)\"', '\"VPdef (mbar)\"', '\"sh (g/kg)\"', '\"H2OC (mmol/mol)\"', '\"rho (g/m**3)\"', '\"wv (m/s)\"', '\"max. wv (m/s)\"', '\"wd (deg)\"']\n",
            "420551\n",
            "(128, 240, 14) (128,)\n"
          ]
        }
      ]
    },
    {
      "cell_type": "code",
      "source": [
        "# 교재 내용대로 모델 구성"
      ],
      "metadata": {
        "id": "_PjHrQG-whvY"
      },
      "execution_count": null,
      "outputs": []
    },
    {
      "cell_type": "code",
      "source": [
        "x = layers.Input(shape = (240, 14))\n",
        "y = layers.Conv1D(32,5, activation = 'relu')(x)\n",
        "y = layers.MaxPooling1D(3)(y)\n",
        "y = layers.Conv1D(32,5, activation = 'relu')(y)\n",
        "y = layers.GRU(32)(y)\n",
        "y = layers.Dense(1)(y)\n",
        "\n",
        "model = models.Model(x,y)\n",
        "model.summary()"
      ],
      "metadata": {
        "id": "hRm4rwUFwvQz",
        "colab": {
          "base_uri": "https://localhost:8080/"
        },
        "outputId": "4f318fec-5f10-4e63-a0dc-7ec5c5cf29ed"
      },
      "execution_count": null,
      "outputs": [
        {
          "output_type": "stream",
          "name": "stdout",
          "text": [
            "Model: \"model_5\"\n",
            "_________________________________________________________________\n",
            " Layer (type)                Output Shape              Param #   \n",
            "=================================================================\n",
            " input_9 (InputLayer)        [(None, 240, 14)]         0         \n",
            "                                                                 \n",
            " conv1d_13 (Conv1D)          (None, 236, 32)           2272      \n",
            "                                                                 \n",
            " max_pooling1d_7 (MaxPooling  (None, 78, 32)           0         \n",
            " 1D)                                                             \n",
            "                                                                 \n",
            " conv1d_14 (Conv1D)          (None, 74, 32)            5152      \n",
            "                                                                 \n",
            " gru_2 (GRU)                 (None, 32)                6336      \n",
            "                                                                 \n",
            " dense_5 (Dense)             (None, 1)                 33        \n",
            "                                                                 \n",
            "=================================================================\n",
            "Total params: 13,793\n",
            "Trainable params: 13,793\n",
            "Non-trainable params: 0\n",
            "_________________________________________________________________\n"
          ]
        }
      ]
    },
    {
      "cell_type": "code",
      "source": [
        "model.compile(optimizer = tf.keras.optimizers.RMSprop(),\n",
        "              loss = 'mae'\n",
        "              )\n",
        "history = model.fit(train_gen,\n",
        "                    steps_per_epoch = 50,\n",
        "                    epochs = 20,\n",
        "                    batch_size = 128,\n",
        "                    validation_data = val_gen,\n",
        "                    validation_steps = val_steps)\n",
        "plot_lcurve([history], ['Conv1+GRU'], ['dodgerblue'], x_itv = 5)"
      ],
      "metadata": {
        "colab": {
          "base_uri": "https://localhost:8080/",
          "height": 1000
        },
        "id": "un7xo8GxR8bp",
        "outputId": "93b54f6d-dc55-4e16-d074-ce1a0c75430e"
      },
      "execution_count": null,
      "outputs": [
        {
          "output_type": "stream",
          "name": "stdout",
          "text": [
            "Epoch 1/20\n",
            "50/50 [==============================] - 9s 140ms/step - loss: 0.3874 - val_loss: 0.3783\n",
            "Epoch 2/20\n",
            "50/50 [==============================] - 6s 131ms/step - loss: 0.3426 - val_loss: 0.3083\n",
            "Epoch 3/20\n",
            "50/50 [==============================] - 6s 126ms/step - loss: 0.3326 - val_loss: 0.3098\n",
            "Epoch 4/20\n",
            "50/50 [==============================] - 11s 221ms/step - loss: 0.3270 - val_loss: 0.3019\n",
            "Epoch 5/20\n",
            "50/50 [==============================] - 6s 127ms/step - loss: 0.3209 - val_loss: 0.3069\n",
            "Epoch 6/20\n",
            "50/50 [==============================] - 11s 221ms/step - loss: 0.3186 - val_loss: 0.2956\n",
            "Epoch 7/20\n",
            "50/50 [==============================] - 6s 129ms/step - loss: 0.3060 - val_loss: 0.3075\n",
            "Epoch 8/20\n",
            "50/50 [==============================] - 6s 127ms/step - loss: 0.3066 - val_loss: 0.2949\n",
            "Epoch 9/20\n",
            "50/50 [==============================] - 6s 127ms/step - loss: 0.3035 - val_loss: 0.3427\n",
            "Epoch 10/20\n",
            "50/50 [==============================] - 6s 127ms/step - loss: 0.3041 - val_loss: 0.3191\n",
            "Epoch 11/20\n",
            "50/50 [==============================] - 6s 127ms/step - loss: 0.3017 - val_loss: 0.2916\n",
            "Epoch 12/20\n",
            "50/50 [==============================] - 7s 133ms/step - loss: 0.2927 - val_loss: 0.3019\n",
            "Epoch 13/20\n",
            "50/50 [==============================] - 6s 130ms/step - loss: 0.2949 - val_loss: 0.2892\n",
            "Epoch 14/20\n",
            "50/50 [==============================] - 6s 127ms/step - loss: 0.2912 - val_loss: 0.2869\n",
            "Epoch 15/20\n",
            "50/50 [==============================] - 6s 128ms/step - loss: 0.2921 - val_loss: 0.2993\n",
            "Epoch 16/20\n",
            "50/50 [==============================] - 6s 127ms/step - loss: 0.2939 - val_loss: 0.2938\n",
            "Epoch 17/20\n",
            "50/50 [==============================] - 6s 128ms/step - loss: 0.2839 - val_loss: 0.3016\n",
            "Epoch 18/20\n",
            "50/50 [==============================] - 7s 137ms/step - loss: 0.2897 - val_loss: 0.2965\n",
            "Epoch 19/20\n",
            "50/50 [==============================] - 6s 132ms/step - loss: 0.2788 - val_loss: 0.2905\n",
            "Epoch 20/20\n",
            "50/50 [==============================] - 6s 129ms/step - loss: 0.2791 - val_loss: 0.3124\n"
          ]
        },
        {
          "output_type": "display_data",
          "data": {
            "text/plain": [
              "<Figure size 864x288 with 1 Axes>"
            ],
            "image/png": "[encoded data removed]"
          },
          "metadata": {
            "needs_background": "light"
          }
        }
      ]
    },
    {
      "cell_type": "code",
      "source": [
        "# 본인 모델 구성(교재 모델보다 성능 높이기)"
      ],
      "metadata": {
        "id": "B0tj_fosxLZa"
      },
      "execution_count": null,
      "outputs": []
    },
    {
      "cell_type": "code",
      "source": [
        "x = layers.Input(shape = (240, 14))\n",
        "# y = layers.Conv1D(32,5, activation = 'relu')(x)\n",
        "# y = layers.MaxPooling1D(3)(y)\n",
        "y = layers.Conv1D(32,5, activation = 'relu')(x)\n",
        "y = layers.LSTM(32)(y)\n",
        "y = layers.Dense(128, activation = 'relu')(y)\n",
        "y = layers.Dense(1)(y)\n",
        "\n",
        "model = models.Model(x,y)\n",
        "model.summary()"
      ],
      "metadata": {
        "colab": {
          "base_uri": "https://localhost:8080/"
        },
        "id": "G3bQcX0pVEVj",
        "outputId": "06f568eb-ef90-46b3-85c7-0481eb1d72c7"
      },
      "execution_count": 4,
      "outputs": [
        {
          "output_type": "stream",
          "name": "stdout",
          "text": [
            "Model: \"model\"\n",
            "_________________________________________________________________\n",
            " Layer (type)                Output Shape              Param #   \n",
            "=================================================================\n",
            " input_1 (InputLayer)        [(None, 240, 14)]         0         \n",
            "                                                                 \n",
            " conv1d (Conv1D)             (None, 236, 32)           2272      \n",
            "                                                                 \n",
            " lstm (LSTM)                 (None, 32)                8320      \n",
            "                                                                 \n",
            " dense (Dense)               (None, 128)               4224      \n",
            "                                                                 \n",
            " dense_1 (Dense)             (None, 1)                 129       \n",
            "                                                                 \n",
            "=================================================================\n",
            "Total params: 14,945\n",
            "Trainable params: 14,945\n",
            "Non-trainable params: 0\n",
            "_________________________________________________________________\n"
          ]
        }
      ]
    },
    {
      "cell_type": "code",
      "source": [
        "model.compile(optimizer = tf.keras.optimizers.RMSprop(),\n",
        "              loss = 'mae'\n",
        "              )\n",
        "history = model.fit(train_gen,\n",
        "                    steps_per_epoch = 50,\n",
        "                    epochs = 20,\n",
        "                    batch_size = 128,\n",
        "                    validation_data = val_gen,\n",
        "                    validation_steps = val_steps)\n",
        "plot_lcurve([history], ['Conv1+GRU'], ['dodgerblue'], x_itv = 5)"
      ],
      "metadata": {
        "colab": {
          "base_uri": "https://localhost:8080/",
          "height": 1000
        },
        "id": "zy4glEscVtqM",
        "outputId": "d15d4dc7-b5af-4df4-e0a5-93d0c05a9c54"
      },
      "execution_count": 5,
      "outputs": [
        {
          "output_type": "stream",
          "name": "stdout",
          "text": [
            "Epoch 1/20\n",
            "50/50 [==============================] - 11s 160ms/step - loss: 0.3748 - val_loss: 0.3267\n",
            "Epoch 2/20\n",
            "50/50 [==============================] - 8s 156ms/step - loss: 0.3181 - val_loss: 0.2891\n",
            "Epoch 3/20\n",
            "50/50 [==============================] - 8s 154ms/step - loss: 0.3172 - val_loss: 0.2979\n",
            "Epoch 4/20\n",
            "50/50 [==============================] - 8s 153ms/step - loss: 0.3046 - val_loss: 0.2830\n",
            "Epoch 5/20\n",
            "50/50 [==============================] - 7s 150ms/step - loss: 0.2965 - val_loss: 0.2796\n",
            "Epoch 6/20\n",
            "50/50 [==============================] - 7s 149ms/step - loss: 0.2942 - val_loss: 0.2917\n",
            "Epoch 7/20\n",
            "50/50 [==============================] - 7s 152ms/step - loss: 0.2911 - val_loss: 0.2719\n",
            "Epoch 8/20\n",
            "50/50 [==============================] - 8s 157ms/step - loss: 0.2852 - val_loss: 0.2805\n",
            "Epoch 9/20\n",
            "50/50 [==============================] - 7s 149ms/step - loss: 0.2857 - val_loss: 0.2798\n",
            "Epoch 10/20\n",
            "50/50 [==============================] - 7s 150ms/step - loss: 0.2863 - val_loss: 0.2706\n",
            "Epoch 11/20\n",
            "50/50 [==============================] - 8s 153ms/step - loss: 0.2892 - val_loss: 0.2728\n",
            "Epoch 12/20\n",
            "50/50 [==============================] - 8s 153ms/step - loss: 0.2805 - val_loss: 0.2802\n",
            "Epoch 13/20\n",
            "50/50 [==============================] - 8s 159ms/step - loss: 0.2846 - val_loss: 0.2687\n",
            "Epoch 14/20\n",
            "50/50 [==============================] - 7s 150ms/step - loss: 0.2768 - val_loss: 0.2711\n",
            "Epoch 15/20\n",
            "50/50 [==============================] - 7s 152ms/step - loss: 0.2761 - val_loss: 0.2886\n",
            "Epoch 16/20\n",
            "50/50 [==============================] - 7s 150ms/step - loss: 0.2755 - val_loss: 0.2697\n",
            "Epoch 17/20\n",
            "50/50 [==============================] - 11s 225ms/step - loss: 0.2761 - val_loss: 0.2717\n",
            "Epoch 18/20\n",
            "50/50 [==============================] - 8s 156ms/step - loss: 0.2743 - val_loss: 0.2687\n",
            "Epoch 19/20\n",
            "50/50 [==============================] - 7s 150ms/step - loss: 0.2765 - val_loss: 0.2710\n",
            "Epoch 20/20\n",
            "50/50 [==============================] - 7s 151ms/step - loss: 0.2663 - val_loss: 0.2700\n"
          ]
        },
        {
          "output_type": "display_data",
          "data": {
            "text/plain": [
              "<Figure size 864x288 with 1 Axes>"
            ],
            "image/png": "[encoded data removed]"
          },
          "metadata": {
            "needs_background": "light"
          }
        }
      ]
    },
    {
      "cell_type": "code",
      "source": [
        ""
      ],
      "metadata": {
        "id": "xMDe0wYobk5n"
      },
      "execution_count": null,
      "outputs": []
    }
  ],
  "metadata": {
    "kernelspec": {
      "display_name": "Python 3",
      "language": "python",
      "name": "python3"
    },
    "language_info": {
      "codemirror_mode": {
        "name": "ipython",
        "version": 3
      },
      "file_extension": ".py",
      "mimetype": "text/x-python",
      "name": "python",
      "nbconvert_exporter": "python",
      "pygments_lexer": "ipython3",
      "version": "3.6.6"
    },
    "colab": {
      "name": "6_4_sequence_processing_with_convnets.ipynb",
      "provenance": [],
      "collapsed_sections": [],
      "include_colab_link": true
    },
    "accelerator": "GPU",
    "gpuClass": "standard"
  },
  "nbformat": 4,
  "nbformat_minor": 0
}
