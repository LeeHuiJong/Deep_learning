{
  "nbformat": 4,
  "nbformat_minor": 0,
  "metadata": {
    "colab": {
      "name": "ch04_04_StyleTransfer.ipynb",
      "provenance": [],
      "collapsed_sections": [],
      "machine_shape": "hm"
    },
    "kernelspec": {
      "name": "python3",
      "display_name": "Python 3"
    },
    "language_info": {
      "name": "python"
    },
    "accelerator": "GPU",
    "gpuClass": "standard"
  },
  "cells": [
    {
      "cell_type": "markdown",
      "metadata": {
        "id": "view-in-github"
      },
      "source": [
        "<a href=\"https://colab.research.google.com/github/yebiny/SkillTreePython-DeepLearning/blob/main/04.Paper-with-code/ch04_04_StyleTransfer.ipynb\" target=\"_parent\"><img src=\"https://colab.research.google.com/assets/colab-badge.svg\" alt=\"Open In Colab\"/></a>"
      ]
    },
    {
      "cell_type": "markdown",
      "metadata": {
        "id": "sWs2kEC1_b-P"
      },
      "source": [
        "# ch04.04 Style Transfer\n",
        "\n",
        "* 날짜:\n",
        "* 이름:\n",
        "\n",
        "## 학습내용\n",
        "    - Style transfer에 대해 이해하고 코드로 구현한다.\n",
        "    - Stlye transfer를 사용하여 이미지의 스타일을 바꾼다.\n",
        "\n",
        "* [논문: Image Style Transfer Using Convolutional Neural Networks](https://www.cv-foundation.org/openaccess/content_cvpr_2016/papers/Gatys_Image_Style_Transfer_CVPR_2016_paper.pdf)\n",
        "* [Keras 실습 참고 코드](https://keras.io/examples/generative/neural_style_transfer/)\n",
        "\n",
        "<p align='center'>\n",
        "<img  src ='https://www.popit.kr/wp-content/uploads/2018/04/gatys_style_transfer.jpg' width=700>\n",
        "</p>"
      ]
    },
    {
      "cell_type": "markdown",
      "source": [
        "## 이미지 전처리\n",
        "---"
      ],
      "metadata": {
        "id": "Lsk1-_etjcXC"
      }
    },
    {
      "cell_type": "code",
      "source": [
        "import tensorflow as tf\n",
        "from tensorflow.keras import preprocessing, utils, applications\n",
        "import numpy as np\n",
        "import matplotlib.pyplot as plt\n",
        "\n",
        "class ImgPreprocess():\n",
        "  def __init__(self, combi_shape, base_model = applications.vgg19):\n",
        "    self.combi_shape = combi_shape\n",
        "    self.base_model = base_model\n",
        "  \n",
        "  # 이미지 경로 -> (전처리 된) 텐서 변환\n",
        "  def path2tensor(self, tensor):\n",
        "    img = preprocessing.image.load_img(img_path, target_size = self.combi_shape[:2])\n",
        "    img = preprocessing.image.img_to_array(img)\n",
        "    img = np.expand_dims(img, axis = 0)\n",
        "    img = self.base_model.preprocess_input(img)\n",
        "    img = tf.convert_to_tensor(img)\n",
        "    return img\n",
        "\n",
        "  # (전처리 된) 텐서 -> (전처리 전) 텐서 이미지\n",
        "  def tensor2img(self, tensor):\n",
        "    x = tensor.numpy()\n",
        "    x = x.reshape(self.combi_shape)\n",
        "    # vgg 전처리 되돌리기\n",
        "    x[:,:,0] += 103.939\n",
        "    x[:,:,1] += 116.779\n",
        "    x[:,:,2] += 123.68\n",
        "    x = x[:, :, ::-1]\n",
        "    x = np.clip(x, 0, 255).astype('unit8')\n",
        "    return x\n",
        "\n",
        "def display_imgs(target_img, ref_img, combi_img=None):\n",
        "  plt.figure(figsize=(20,5))\n",
        "  plt.subplot(131);plt.axis('off')\n",
        "  plt.imshow(target_img);plt.title('Org Img (for content)')\n",
        "  plt.subplot(132);plt.axis('off')\n",
        "  plt.imshow(ref_img);plt.title('Ref Img (for style)')\n",
        "  if combi_img is not None: \n",
        "    plt.subplot(133);plt.axis('off')\n",
        "    plt.imshow(combi_img);plt.title('Gene Img')\n",
        "  plt.show()\n",
        "\n",
        "\n",
        "combi_shape = (400,600,3)\n",
        "p = ImgPreprocess(combi_shape)\n",
        "tensor = p.path2tensor('/content/origin01.jpg')\n",
        "img = p.tensor2img(tensor)\n",
        "plt.imshow(img)\n"
      ],
      "metadata": {
        "id": "XbVBLBNtY_7Y",
        "colab": {
          "base_uri": "https://localhost:8080/",
          "height": 374
        },
        "outputId": "05d573f9-40d3-4e80-ea6e-f19e38296345"
      },
      "execution_count": null,
      "outputs": [
        {
          "output_type": "error",
          "ename": "NameError",
          "evalue": "ignored",
          "traceback": [
            "\u001b[0;31m---------------------------------------------------------------------------\u001b[0m",
            "\u001b[0;31mNameError\u001b[0m                                 Traceback (most recent call last)",
            "\u001b[0;32m<ipython-input-9-bb06daaba85a>\u001b[0m in \u001b[0;36m<module>\u001b[0;34m\u001b[0m\n\u001b[1;32m     32\u001b[0m \u001b[0mcombi_shape\u001b[0m \u001b[0;34m=\u001b[0m \u001b[0;34m(\u001b[0m\u001b[0;36m400\u001b[0m\u001b[0;34m,\u001b[0m\u001b[0;36m600\u001b[0m\u001b[0;34m,\u001b[0m\u001b[0;36m3\u001b[0m\u001b[0;34m)\u001b[0m\u001b[0;34m\u001b[0m\u001b[0;34m\u001b[0m\u001b[0m\n\u001b[1;32m     33\u001b[0m \u001b[0mp\u001b[0m \u001b[0;34m=\u001b[0m \u001b[0mImgPreprocess\u001b[0m\u001b[0;34m(\u001b[0m\u001b[0mcombi_shape\u001b[0m\u001b[0;34m)\u001b[0m\u001b[0;34m\u001b[0m\u001b[0;34m\u001b[0m\u001b[0m\n\u001b[0;32m---> 34\u001b[0;31m \u001b[0mtensor\u001b[0m \u001b[0;34m=\u001b[0m \u001b[0mp\u001b[0m\u001b[0;34m.\u001b[0m\u001b[0mpath2tensor\u001b[0m\u001b[0;34m(\u001b[0m\u001b[0;34m'/content/origin01.jpg'\u001b[0m\u001b[0;34m)\u001b[0m\u001b[0;34m\u001b[0m\u001b[0;34m\u001b[0m\u001b[0m\n\u001b[0m\u001b[1;32m     35\u001b[0m \u001b[0mimg\u001b[0m \u001b[0;34m=\u001b[0m \u001b[0mp\u001b[0m\u001b[0;34m.\u001b[0m\u001b[0mtensor2img\u001b[0m\u001b[0;34m(\u001b[0m\u001b[0mtensor\u001b[0m\u001b[0;34m)\u001b[0m\u001b[0;34m\u001b[0m\u001b[0;34m\u001b[0m\u001b[0m\n\u001b[1;32m     36\u001b[0m \u001b[0mplt\u001b[0m\u001b[0;34m.\u001b[0m\u001b[0mimshow\u001b[0m\u001b[0;34m(\u001b[0m\u001b[0mimg\u001b[0m\u001b[0;34m)\u001b[0m\u001b[0;34m\u001b[0m\u001b[0;34m\u001b[0m\u001b[0m\n",
            "\u001b[0;32m<ipython-input-9-bb06daaba85a>\u001b[0m in \u001b[0;36mpath2tensor\u001b[0;34m(self, tensor)\u001b[0m\n\u001b[1;32m     11\u001b[0m   \u001b[0;31m# 이미지 경로 -> (전처리 된) 텐서 변환\u001b[0m\u001b[0;34m\u001b[0m\u001b[0;34m\u001b[0m\u001b[0;34m\u001b[0m\u001b[0m\n\u001b[1;32m     12\u001b[0m   \u001b[0;32mdef\u001b[0m \u001b[0mpath2tensor\u001b[0m\u001b[0;34m(\u001b[0m\u001b[0mself\u001b[0m\u001b[0;34m,\u001b[0m \u001b[0mtensor\u001b[0m\u001b[0;34m)\u001b[0m\u001b[0;34m:\u001b[0m\u001b[0;34m\u001b[0m\u001b[0;34m\u001b[0m\u001b[0m\n\u001b[0;32m---> 13\u001b[0;31m     \u001b[0mimg\u001b[0m \u001b[0;34m=\u001b[0m \u001b[0mpreprocessing\u001b[0m\u001b[0;34m.\u001b[0m\u001b[0mimage\u001b[0m\u001b[0;34m.\u001b[0m\u001b[0mload_img\u001b[0m\u001b[0;34m(\u001b[0m\u001b[0mimg_path\u001b[0m\u001b[0;34m,\u001b[0m \u001b[0mtarget_size\u001b[0m \u001b[0;34m=\u001b[0m \u001b[0mself\u001b[0m\u001b[0;34m.\u001b[0m\u001b[0mcombi_shape\u001b[0m\u001b[0;34m[\u001b[0m\u001b[0;34m:\u001b[0m\u001b[0;36m2\u001b[0m\u001b[0;34m]\u001b[0m\u001b[0;34m)\u001b[0m\u001b[0;34m\u001b[0m\u001b[0;34m\u001b[0m\u001b[0m\n\u001b[0m\u001b[1;32m     14\u001b[0m     \u001b[0mimg\u001b[0m \u001b[0;34m=\u001b[0m \u001b[0mpreprocessing\u001b[0m\u001b[0;34m.\u001b[0m\u001b[0mimage\u001b[0m\u001b[0;34m.\u001b[0m\u001b[0mimg_to_array\u001b[0m\u001b[0;34m(\u001b[0m\u001b[0mimg\u001b[0m\u001b[0;34m)\u001b[0m\u001b[0;34m\u001b[0m\u001b[0;34m\u001b[0m\u001b[0m\n\u001b[1;32m     15\u001b[0m     \u001b[0mimg\u001b[0m \u001b[0;34m=\u001b[0m \u001b[0mnp\u001b[0m\u001b[0;34m.\u001b[0m\u001b[0mexpand_dims\u001b[0m\u001b[0;34m(\u001b[0m\u001b[0mimg\u001b[0m\u001b[0;34m,\u001b[0m \u001b[0maxis\u001b[0m \u001b[0;34m=\u001b[0m \u001b[0;36m0\u001b[0m\u001b[0;34m)\u001b[0m\u001b[0;34m\u001b[0m\u001b[0;34m\u001b[0m\u001b[0m\n",
            "\u001b[0;31mNameError\u001b[0m: name 'img_path' is not defined"
          ]
        }
      ]
    },
    {
      "cell_type": "markdown",
      "source": [
        "![](https://s3.amazonaws.com/book.keras.io/img/ch8/style_transfer.png)"
      ],
      "metadata": {
        "id": "Fc_Rvae0r9YU"
      }
    },
    {
      "cell_type": "code",
      "source": [
        "target_img = plt.imread('origin01.jpg')\n",
        "ref_img = plt.imread('style01.jpg')\n",
        "display_imgs(target_img, ref_img)"
      ],
      "metadata": {
        "id": "J_Kiw33aWrey"
      },
      "execution_count": null,
      "outputs": []
    },
    {
      "cell_type": "markdown",
      "source": [
        "## 모델 준비\n",
        "---\n",
        "\n",
        "<p align='center'>\n",
        "<img  src ='https://img1.daumcdn.net/thumb/R1280x0/?scode=mtistory2&fname=https%3A%2F%2Fblog.kakaocdn.net%2Fdn%2FzzZ6d%2FbtqtZOLsxg8%2Fdykdt2eKeWaxRFx8iyzEE0%2Fimg.png\n",
        "' width=500>\n",
        "</p>\n"
      ],
      "metadata": {
        "id": "70H7RIE4jnRX"
      }
    },
    {
      "cell_type": "code",
      "source": [
        "import tensorflow as tf\n",
        "from tensorflow.keras import preprocessing, utils, applications\n",
        "\n",
        "COMBI_SHAPE = (400, 600, 3)\n",
        "BASE_MODEL = applications.vgg19"
      ],
      "metadata": {
        "id": "Cm1xNEjdO5t8"
      },
      "execution_count": null,
      "outputs": []
    },
    {
      "cell_type": "markdown",
      "source": [
        "#### **특성 추출기**"
      ],
      "metadata": {
        "id": "Gg26e2RUtQkD"
      }
    },
    {
      "cell_type": "code",
      "source": [
        "model = BASE_MODEL.VGG19(include_top = False, weights = 'imagenet')\n",
        "model.summary()"
      ],
      "metadata": {
        "id": "PbvYPCiNs91n"
      },
      "execution_count": null,
      "outputs": []
    },
    {
      "cell_type": "code",
      "source": [
        "outputs_dic = [(layer.name, layer.output)for layer in model.layers]\n",
        "extractor = models.Model(inputs =model.inputs, outputs=model.outputs_dict)"
      ],
      "metadata": {
        "id": "aoovmPO9s6uk"
      },
      "execution_count": null,
      "outputs": []
    },
    {
      "cell_type": "markdown",
      "source": [
        "#### **이미지 텐서 준비**"
      ],
      "metadata": {
        "id": "Mo1-jrqStUFB"
      }
    },
    {
      "cell_type": "code",
      "source": [
        "p = ImgPreprocess(COMBI_SHAPE, BASE_MODEL)\n",
        "# target (content)\n",
        "target_tensor = p.path2tensor('origin01.jpg')\n",
        "# reference (style)\n",
        "refer_tensor = p.path2tensor('style01.jpg')\n",
        "# combination\n",
        "combi_tnesor = tf.Variable(p.path2tensor('origin01.jpg'))\n",
        "\n",
        "print(target_tensor.shape, refer_tensor.shape, combi_tensor.shape)"
      ],
      "metadata": {
        "id": "-Jb8exKUYtau"
      },
      "execution_count": null,
      "outputs": []
    },
    {
      "cell_type": "markdown",
      "source": [
        "#### **특성 추출**"
      ],
      "metadata": {
        "id": "ZWK6QT31tfp1"
      }
    },
    {
      "cell_type": "code",
      "source": [
        ""
      ],
      "metadata": {
        "id": "Y-Mnw7ZatfRR"
      },
      "execution_count": null,
      "outputs": []
    },
    {
      "cell_type": "markdown",
      "source": [
        "## 손실 정의\n",
        "---\n",
        "\n",
        "![](https://img1.daumcdn.net/thumb/R1280x0/?scode=mtistory2&fname=https%3A%2F%2Fblog.kakaocdn.net%2Fdn%2FboAUdP%2Fbtqt7RHqZqN%2Fx6SxUNLAdhpBw7J5JcK08k%2Fimg.png)"
      ],
      "metadata": {
        "id": "wlQuWpYwjYKV"
      }
    },
    {
      "cell_type": "markdown",
      "source": [
        "### **| 컨텐츠 손실**\n",
        "\n",
        "![](https://img1.daumcdn.net/thumb/R1280x0/?scode=mtistory2&fname=https%3A%2F%2Fblog.kakaocdn.net%2Fdn%2FclyRn2%2Fbtqt4yhBuoM%2FA6LcrtitH46HHzqYu40vo1%2Fimg.png)"
      ],
      "metadata": {
        "id": "jPqOZz6hmJ7Y"
      }
    },
    {
      "cell_type": "markdown",
      "source": [
        "#### **컨텐츠 손실 정의**"
      ],
      "metadata": {
        "id": "-O1wgeY6TUPk"
      }
    },
    {
      "cell_type": "code",
      "source": [
        ""
      ],
      "metadata": {
        "id": "OyXCrta0wv2T"
      },
      "execution_count": null,
      "outputs": []
    },
    {
      "cell_type": "markdown",
      "source": [
        "#### **컨텐츠 손실 계산**"
      ],
      "metadata": {
        "id": "A4RIub5WeEM4"
      }
    },
    {
      "cell_type": "code",
      "source": [
        ""
      ],
      "metadata": {
        "id": "L91Cep4Ve03m"
      },
      "execution_count": null,
      "outputs": []
    },
    {
      "cell_type": "markdown",
      "source": [
        "### **| 스타일 손실**\n",
        "\n",
        "![](https://img1.daumcdn.net/thumb/R1280x0/?scode=mtistory2&fname=https%3A%2F%2Fblog.kakaocdn.net%2Fdn%2FE2teK%2FbtqubfnwDl2%2F9WdiAMbhEKKL9SNNfQqdlk%2Fimg.png)\n"
      ],
      "metadata": {
        "id": "11gsdA4vkE2c"
      }
    },
    {
      "cell_type": "markdown",
      "source": [
        "#### **그램(gram) 매트릭스**"
      ],
      "metadata": {
        "id": "Vdi7aZ-K1xVf"
      }
    },
    {
      "cell_type": "code",
      "source": [
        ""
      ],
      "metadata": {
        "id": "aKOqNMib1xVo"
      },
      "execution_count": null,
      "outputs": []
    },
    {
      "cell_type": "markdown",
      "source": [
        "#### **스타일 손실 정의**"
      ],
      "metadata": {
        "id": "RfugkAh23MRt"
      }
    },
    {
      "cell_type": "code",
      "source": [
        ""
      ],
      "metadata": {
        "id": "Gxyfi3wi3Edt"
      },
      "execution_count": null,
      "outputs": []
    },
    {
      "cell_type": "markdown",
      "source": [
        "#### **스타일 손실 계산**"
      ],
      "metadata": {
        "id": "a_HZvz8eeG6V"
      }
    },
    {
      "cell_type": "code",
      "source": [
        ""
      ],
      "metadata": {
        "id": "B9Zfak0SyD0B"
      },
      "execution_count": null,
      "outputs": []
    },
    {
      "cell_type": "markdown",
      "source": [
        "#### **| 총 변위 손실**\n",
        "\n",
        "* 생성된 이미지가 공간적인 연속성을 가지도록 도와준다.\n",
        "* 픽셀의 격자무늬가 과도하게 나타나는 것을 막아 준다.\n",
        "* 일종의 규제 항으로 해석할 수 있다."
      ],
      "metadata": {
        "id": "Tap2E0hIVAkk"
      }
    },
    {
      "cell_type": "code",
      "source": [
        ""
      ],
      "metadata": {
        "id": "6GyRR5eqc1m_"
      },
      "execution_count": null,
      "outputs": []
    },
    {
      "cell_type": "code",
      "source": [
        ""
      ],
      "metadata": {
        "id": "KLWxT-r8TpZ_"
      },
      "execution_count": null,
      "outputs": []
    },
    {
      "cell_type": "markdown",
      "source": [
        "## 학습\n",
        "---"
      ],
      "metadata": {
        "id": "psSFjC1Te-xe"
      }
    },
    {
      "cell_type": "markdown",
      "source": [
        "### **| 학습을 위한 손실 함수 정리**"
      ],
      "metadata": {
        "id": "8IoZPkESTvfc"
      }
    },
    {
      "cell_type": "code",
      "source": [
        ""
      ],
      "metadata": {
        "id": "aIItTK3ffB5g"
      },
      "execution_count": null,
      "outputs": []
    },
    {
      "cell_type": "code",
      "source": [
        ""
      ],
      "metadata": {
        "id": "T4w9GosrkCsn"
      },
      "execution_count": null,
      "outputs": []
    },
    {
      "cell_type": "code",
      "source": [
        ""
      ],
      "metadata": {
        "id": "_lzUXDnZqEpM"
      },
      "execution_count": null,
      "outputs": []
    },
    {
      "cell_type": "code",
      "source": [
        ""
      ],
      "metadata": {
        "id": "ha1lWumlkGJM"
      },
      "execution_count": null,
      "outputs": []
    },
    {
      "cell_type": "code",
      "source": [
        ""
      ],
      "metadata": {
        "id": "BHzEzFELsxEy"
      },
      "execution_count": null,
      "outputs": []
    }
  ]
}