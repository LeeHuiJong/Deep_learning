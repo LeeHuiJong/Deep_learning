{
  "nbformat": 4,
  "nbformat_minor": 0,
  "metadata": {
    "colab": {
      "provenance": [],
      "collapsed_sections": [],
      "machine_shape": "hm",
      "include_colab_link": true
    },
    "kernelspec": {
      "name": "python3",
      "display_name": "Python 3"
    },
    "language_info": {
      "name": "python"
    },
    "accelerator": "GPU",
    "gpuClass": "standard"
  },
  "cells": [
    {
      "cell_type": "markdown",
      "metadata": {
        "id": "view-in-github",
        "colab_type": "text"
      },
      "source": [
        "<a href=\"https://colab.research.google.com/github/LeeHuiJong/Deep_learning/blob/main/ch04_08_Transformer.ipynb\" target=\"_parent\"><img src=\"https://colab.research.google.com/assets/colab-badge.svg\" alt=\"Open In Colab\"/></a>"
      ]
    },
    {
      "cell_type": "markdown",
      "source": [
        "# ch04.08 Transformer\n",
        "\n",
        "* 날짜:\n",
        "* 이름:\n",
        "\n",
        "## 학습내용\n",
        "  - Transformer을 이해하고 구현한다.\n",
        "  - Vision Transformer을 이해하고 구현한다.\n",
        "\n",
        "## 참고 사이트\n",
        "\n",
        "   - 논문 [Attention is all you need](https://arxiv.org/pdf/1706.03762.pdf)\n"
      ],
      "metadata": {
        "id": "nLnUQASYQKZc"
      }
    },
    {
      "cell_type": "code",
      "source": [
        "import sys, os\n",
        "sys.path.append('/content/drive/MyDrive/scripts/')\n",
        "from lib import *"
      ],
      "metadata": {
        "id": "FlxzeNvjD2dP"
      },
      "execution_count": null,
      "outputs": []
    },
    {
      "cell_type": "code",
      "source": [
        "import tensorflow as tf\n",
        "from tensorflow.keras import models, layers, utils, losses, optimizers\n",
        "import numpy as np\n",
        "import matplotlib.pyplot as plt\n",
        "import pandas as pd\n",
        "import seaborn as sns"
      ],
      "metadata": {
        "id": "drT10VTBMFC2"
      },
      "execution_count": null,
      "outputs": []
    },
    {
      "cell_type": "markdown",
      "source": [
        "## 모듈 제작\n",
        "---"
      ],
      "metadata": {
        "id": "XcL9NVU8iYZB"
      }
    },
    {
      "cell_type": "markdown",
      "source": [
        "### **| Multi Head Attention**\n",
        "\n",
        "<p align='center'>\n",
        "<img src=https://github.com/yebiny/SkillTreePython-DeepLearning/blob/main/imgs/ch0408-09.PNG?raw=true?raw=true?raw=true\n",
        " width=350>\n",
        "</p>"
      ],
      "metadata": {
        "id": "xolCJasMbBLR"
      }
    },
    {
      "cell_type": "markdown",
      "source": [
        "* set params\n",
        "\n",
        "<p align='center'>\n",
        "<img src=https://github.com/yebiny/SkillTreePython-DeepLearning/blob/main/imgs/ch0408-01.PNG?raw=true?raw=true\n",
        " width=850>\n",
        "</p>\n"
      ],
      "metadata": {
        "id": "Pvbc9o05q-MC"
      }
    },
    {
      "cell_type": "code",
      "source": [
        "h = 8\n",
        "d_k = 64\n",
        "d_v = 64\n",
        "d_model =64 * h # 512 = embeding dims\n",
        "\n",
        "# 인풋 x shape\n",
        "# 시계열 : ( time range(window_size), channel )\n",
        "# 텍스트 : ( max length, vocab size )\n",
        "# 텍스트 임베딩 : (max lenth, embeding dims)\n",
        "\n",
        "# x -> (V, K, Q)\n",
        "# T = S = max lenth\n",
        "# d_model = embedding dims\n",
        "T = 200\n",
        "S = 100\n",
        "\n",
        "Q = (T, d_model)\n",
        "K = (S, d_model)\n",
        "V = (S, d_model)\n",
        "print(Q)\n",
        "print(K)\n",
        "print(V)"
      ],
      "metadata": {
        "id": "GkyUk71jrBti",
        "colab": {
          "base_uri": "https://localhost:8080/"
        },
        "outputId": "1804dd57-4e35-4923-fbe5-bb3b1bd047b6"
      },
      "execution_count": null,
      "outputs": [
        {
          "output_type": "stream",
          "name": "stdout",
          "text": [
            "(200, 512)\n",
            "(100, 512)\n",
            "(100, 512)\n"
          ]
        }
      ]
    },
    {
      "cell_type": "code",
      "source": [
        "def matmul(shape1, shape2):\n",
        "  assert shape1[1]==shape2[0]\n",
        "  return (shape1[0], shape2[1])\n",
        "\n",
        "A = (100, 300)\n",
        "B = (100, 200)\n",
        "matmul(A, B)"
      ],
      "metadata": {
        "id": "qjGtR8OpwCUC",
        "colab": {
          "base_uri": "https://localhost:8080/",
          "height": 339
        },
        "outputId": "a8a0f88a-0df6-420b-b4f3-7f50a4e97ae1"
      },
      "execution_count": null,
      "outputs": [
        {
          "output_type": "error",
          "ename": "AssertionError",
          "evalue": "ignored",
          "traceback": [
            "\u001b[0;31m---------------------------------------------------------------------------\u001b[0m",
            "\u001b[0;31mAssertionError\u001b[0m                            Traceback (most recent call last)",
            "\u001b[0;32m<ipython-input-8-277e8d6be46b>\u001b[0m in \u001b[0;36m<module>\u001b[0;34m\u001b[0m\n\u001b[1;32m      5\u001b[0m \u001b[0mA\u001b[0m \u001b[0;34m=\u001b[0m \u001b[0;34m(\u001b[0m\u001b[0;36m100\u001b[0m\u001b[0;34m,\u001b[0m \u001b[0;36m300\u001b[0m\u001b[0;34m)\u001b[0m\u001b[0;34m\u001b[0m\u001b[0;34m\u001b[0m\u001b[0m\n\u001b[1;32m      6\u001b[0m \u001b[0mB\u001b[0m \u001b[0;34m=\u001b[0m \u001b[0;34m(\u001b[0m\u001b[0;36m100\u001b[0m\u001b[0;34m,\u001b[0m \u001b[0;36m200\u001b[0m\u001b[0;34m)\u001b[0m\u001b[0;34m\u001b[0m\u001b[0;34m\u001b[0m\u001b[0m\n\u001b[0;32m----> 7\u001b[0;31m \u001b[0mmatmul\u001b[0m\u001b[0;34m(\u001b[0m\u001b[0mA\u001b[0m\u001b[0;34m,\u001b[0m \u001b[0mB\u001b[0m\u001b[0;34m)\u001b[0m\u001b[0;34m\u001b[0m\u001b[0;34m\u001b[0m\u001b[0m\n\u001b[0m",
            "\u001b[0;32m<ipython-input-8-277e8d6be46b>\u001b[0m in \u001b[0;36mmatmul\u001b[0;34m(shape1, shape2)\u001b[0m\n\u001b[1;32m      1\u001b[0m \u001b[0;32mdef\u001b[0m \u001b[0mmatmul\u001b[0m\u001b[0;34m(\u001b[0m\u001b[0mshape1\u001b[0m\u001b[0;34m,\u001b[0m \u001b[0mshape2\u001b[0m\u001b[0;34m)\u001b[0m\u001b[0;34m:\u001b[0m\u001b[0;34m\u001b[0m\u001b[0;34m\u001b[0m\u001b[0m\n\u001b[0;32m----> 2\u001b[0;31m   \u001b[0;32massert\u001b[0m \u001b[0mshape1\u001b[0m\u001b[0;34m[\u001b[0m\u001b[0;36m1\u001b[0m\u001b[0;34m]\u001b[0m\u001b[0;34m==\u001b[0m\u001b[0mshape2\u001b[0m\u001b[0;34m[\u001b[0m\u001b[0;36m0\u001b[0m\u001b[0;34m]\u001b[0m\u001b[0;34m\u001b[0m\u001b[0;34m\u001b[0m\u001b[0m\n\u001b[0m\u001b[1;32m      3\u001b[0m   \u001b[0;32mreturn\u001b[0m \u001b[0;34m(\u001b[0m\u001b[0mshape1\u001b[0m\u001b[0;34m[\u001b[0m\u001b[0;36m0\u001b[0m\u001b[0;34m]\u001b[0m\u001b[0;34m,\u001b[0m \u001b[0mshape2\u001b[0m\u001b[0;34m[\u001b[0m\u001b[0;36m1\u001b[0m\u001b[0;34m]\u001b[0m\u001b[0;34m)\u001b[0m\u001b[0;34m\u001b[0m\u001b[0;34m\u001b[0m\u001b[0m\n\u001b[1;32m      4\u001b[0m \u001b[0;34m\u001b[0m\u001b[0m\n\u001b[1;32m      5\u001b[0m \u001b[0mA\u001b[0m \u001b[0;34m=\u001b[0m \u001b[0;34m(\u001b[0m\u001b[0;36m100\u001b[0m\u001b[0;34m,\u001b[0m \u001b[0;36m300\u001b[0m\u001b[0;34m)\u001b[0m\u001b[0;34m\u001b[0m\u001b[0;34m\u001b[0m\u001b[0m\n",
            "\u001b[0;31mAssertionError\u001b[0m: "
          ]
        }
      ]
    },
    {
      "cell_type": "markdown",
      "source": [
        "* Step1. Linear each  $Q, K, V(W^Q, W^K, W^V)$\n",
        "\n",
        "<br>\n",
        "\n",
        "<p align='center'>\n",
        "<img src=https://github.com/yebiny/SkillTreePython-DeepLearning/blob/main/imgs/ch0408-05.PNG?raw=true?raw=true?raw=true\n",
        " width=250>\n",
        "</p>\n",
        "\n",
        "<p align='center'>\n",
        "<img src=https://github.com/yebiny/SkillTreePython-DeepLearning/blob/main/imgs/ch0408-02-1.PNG?raw=true?raw=true\n",
        " width=850>\n",
        "</p>\n",
        "\n"
      ],
      "metadata": {
        "id": "U2pu1Yk8rFay"
      }
    },
    {
      "cell_type": "code",
      "source": [
        "# set weights\n",
        "W_Q = (d_model, d_k)\n",
        "W_K = (d_model, d_k)\n",
        "W_V = (d_model, d_v)\n",
        "# calculate shape\n",
        "VW = matmul(V, W_V)\n",
        "KW = matmul(K, W_K)\n",
        "QW = matmul(Q, W_Q)\n",
        "print(f'Q {Q} x W_Q {W_Q}  = {QW}')\n",
        "print(f'K {K} x W_K {W_K} = {KW}')\n",
        "print(f'V {V} x W_V {W_V} = {VW}')"
      ],
      "metadata": {
        "id": "-mgzUhEMwEAa",
        "colab": {
          "base_uri": "https://localhost:8080/"
        },
        "outputId": "3ee64fb8-8bbe-423f-ceb2-1cd003a995ff"
      },
      "execution_count": null,
      "outputs": [
        {
          "output_type": "stream",
          "name": "stdout",
          "text": [
            "Q (200, 512) x W_Q (512, 64)  = (200, 64)\n",
            "K (100, 512) x W_K (512, 64) = (100, 64)\n",
            "V (100, 512) x W_V (512, 64) = (100, 64)\n"
          ]
        }
      ]
    },
    {
      "cell_type": "markdown",
      "source": [
        "* Step2. Attention\n",
        "\n",
        "\n",
        "<p align='center'>\n",
        "<img src=https://wikidocs.net/images/page/159310/mha_img_original.png?raw=true\n",
        " width=450>\n",
        "</p>\n",
        "\n",
        "\n",
        "<p align='center'>\n",
        "<img src=https://github.com/yebiny/SkillTreePython-DeepLearning/blob/main/imgs/ch0408-03.PNG?raw=true?raw=true\n",
        " width=850>\n",
        "</p>"
      ],
      "metadata": {
        "id": "5Jt-3QHk5ceb"
      }
    },
    {
      "cell_type": "code",
      "source": [
        "KW_T = (KW[1], KW[0])\n",
        "print(f\"QW: {QW}, KW_T: {KW_T}, VW: {VW}\")\n",
        "\n",
        "Att = matmul(matmul(QW, KW_T), VW)\n",
        "print(f'Attention(QW, KW, VW) : {Att}')"
      ],
      "metadata": {
        "id": "q4wy6SCaqcA7",
        "colab": {
          "base_uri": "https://localhost:8080/"
        },
        "outputId": "4d0f70d3-3467-40ce-9d6a-ac410ce4fa20"
      },
      "execution_count": null,
      "outputs": [
        {
          "output_type": "stream",
          "name": "stdout",
          "text": [
            "QW: (200, 64), KW_T: (64, 100), VW: (100, 64)\n",
            "Attention(QW, KW, VW) : (200, 64)\n"
          ]
        }
      ]
    },
    {
      "cell_type": "markdown",
      "source": [
        "* step3. concat & Linear $(W^O)$\n",
        "\n",
        "<p align='center'>\n",
        "<img src=https://github.com/yebiny/SkillTreePython-DeepLearning/blob/main/imgs/ch0408-10.PNG?raw=true?raw=true?raw=true\n",
        " width=300>\n",
        "</p>\n",
        "\n",
        "<p align='center'>\n",
        "<img src=https://github.com/yebiny/SkillTreePython-DeepLearning/blob/main/imgs/ch0408-04.PNG?raw=true?raw=true\n",
        " width=850>\n",
        "</p>"
      ],
      "metadata": {
        "id": "rpK9F02_61db"
      }
    },
    {
      "cell_type": "code",
      "source": [
        "print(f'- Attention(QW, KW, VW) = head {Att}')\n",
        "\n",
        "concat_att = (Att[0], Att[1]*h)\n",
        "print(f'- Concat(head_1, ...head_h) {concat_att}')\n",
        "\n",
        "W_O = ((h*d_v), d_model)\n",
        "final_out = matmul(concat_att, W_O)\n",
        "print(f'- Concat {concat_att} x W_O  {W_O} = final output: {final_out}')"
      ],
      "metadata": {
        "id": "ALvY3gFB5j2z",
        "colab": {
          "base_uri": "https://localhost:8080/"
        },
        "outputId": "edc80f7f-c570-449a-e198-7c497a74d665"
      },
      "execution_count": null,
      "outputs": [
        {
          "output_type": "stream",
          "name": "stdout",
          "text": [
            "- Attention(QW, KW, VW) = head (200, 64)\n",
            "- Concat(head_1, ...head_h) (200, 512)\n",
            "- Concat (200, 512) x W_O  (512, 512) = final output: (200, 512)\n"
          ]
        }
      ]
    },
    {
      "cell_type": "code",
      "source": [
        "print('- 인풋: ',  V, K, Q)\n",
        "print(f'- 최종 아웃풋: {final_out}')"
      ],
      "metadata": {
        "id": "0yQlAMph8BQb",
        "colab": {
          "base_uri": "https://localhost:8080/"
        },
        "outputId": "416a14fa-f5d2-48a9-8163-a70ece5f4a3b"
      },
      "execution_count": null,
      "outputs": [
        {
          "output_type": "stream",
          "name": "stdout",
          "text": [
            "- 인풋:  (100, 512) (100, 512) (200, 512)\n",
            "- 최종 아웃풋: (200, 512)\n"
          ]
        }
      ]
    },
    {
      "cell_type": "markdown",
      "source": [
        "#### Tensorflow.keras MultiHeadAttention Layer\n",
        "\n",
        "* docs: https://www.tensorflow.org/api_docs/python/tf/keras/layers/MultiHeadAttention\n",
        "\n",
        "```\n",
        "tf.keras.layers.MultiHeadAttention(\n",
        "    num_heads,\n",
        "    key_dim,\n",
        "    value_dim=None,\n",
        ")\n",
        "\n",
        "# call args\n",
        "\n",
        "query\tQuery Tensor of shape (B, T, dim).\n",
        "value\tValue Tensor of shape (B, S, dim).\n",
        "key\tOptional key Tensor of shape (B, S, dim). If not given, will use \n",
        "```"
      ],
      "metadata": {
        "id": "JlGlKBg57lRr"
      }
    },
    {
      "cell_type": "code",
      "source": [
        "h = 8\n",
        "d_k = 64\n",
        "d_model =64 * h # 512 = embeding dims\n",
        "\n",
        "T = 200\n",
        "S = 100\n",
        "\n",
        "Q = layers.Input(shape=(T, d_model))\n",
        "K = V = layers.Input(shape=(S, d_model))\n",
        "\n",
        "y = layers.MultiHeadAttention(num_heads = h,\n",
        "                              key_dim = d_k,\n",
        "                              )(Q, V)"
      ],
      "metadata": {
        "id": "cOHRxGBxbE1C"
      },
      "execution_count": null,
      "outputs": []
    },
    {
      "cell_type": "code",
      "source": [
        "print(f'- 인풋: V {V.shape} K {K.shape} Q {Q.shape}')\n",
        "print(f'- 최종 아웃풋: {y.shape}')"
      ],
      "metadata": {
        "id": "QRnjbqfvKmn7",
        "colab": {
          "base_uri": "https://localhost:8080/"
        },
        "outputId": "56604bdf-0faf-4885-9b2d-fd35415e3d22"
      },
      "execution_count": null,
      "outputs": [
        {
          "output_type": "stream",
          "name": "stdout",
          "text": [
            "- 인풋: V (None, 100, 512) K (None, 100, 512) Q (None, 200, 512)\n",
            "- 최종 아웃풋: (None, 200, 512)\n"
          ]
        }
      ]
    },
    {
      "cell_type": "markdown",
      "source": [
        "### **| Encoder Block**\n",
        "\n",
        "<p align='center'>\n",
        "<img src=https://github.com/yebiny/SkillTreePython-DeepLearning/blob/main/imgs/ch0408-11.PNG?raw=true?raw=true\n",
        " width=250>\n",
        "</p>"
      ],
      "metadata": {
        "id": "etBfO5Y9cHVf"
      }
    },
    {
      "cell_type": "code",
      "source": [
        "def encoder_block(Input_shape, h, d_k, d_ff, dropout=0.25, name=None):\n",
        "    inputs = layers.Input(shape = input_shape)\n",
        "    # Attention and Normalization\n",
        "    # multi-head\n",
        "    y = layers.MultiHeadAttention(num_heads = h,\n",
        "                                  key_dim = d_k,\n",
        "                                  dropout = dropout)(inputs, inputs)\n",
        "    y = layers.Dropout(dropout)(y)\n",
        "    # Add & Norm\n",
        "    y = layers.LayerNormalization(epsilon = 1e-6)(y)\n",
        "    y_1 = layers.Add()([y, inputs])\n",
        "\n",
        "  # Feed Forward Part\n",
        "    # FF\n",
        "    y = layers.Conv1D(filters=d_ff, kernel_size = 1, activation = 'relu')(y_1)\n",
        "    y = layers.Dropout(dropout)(y)\n",
        "    y = layers.Conv1D(filters = inputs.shape[-1], kernel_size = 1, activation = 'relu')(y)\n",
        "    # Add & Norm\n",
        "    y = layers.LayerNormalization(epsilon = 1e-6)(y)\n",
        "    outputs = layers.Add()([y, y-1])\n",
        "\n",
        "    return models.Model(inputs, outputs, name = name)"
      ],
      "metadata": {
        "id": "e-hVfBKwMG9X"
      },
      "execution_count": null,
      "outputs": []
    },
    {
      "cell_type": "code",
      "source": [
        "input_shape = (200, 128)\n",
        "h = 8\n",
        "d_k = 16\n",
        "d_ff = 32\n",
        "encoder = encoder_block(input_shape,\n",
        "                        h,\n",
        "                        d_k,\n",
        "                        d_ff)\n",
        "utils.plot_model(encoder, show_shapes = True)"
      ],
      "metadata": {
        "id": "ZRRQwBR6ayxH",
        "colab": {
          "base_uri": "https://localhost:8080/",
          "height": 1000
        },
        "outputId": "d3140830-1157-46a8-9622-2f5367dc3eb7"
      },
      "execution_count": null,
      "outputs": [
        {
          "output_type": "execute_result",
          "data": {
            "image/png": "[encoded data removed]",
            "text/plain": [
              "<IPython.core.display.Image object>"
            ]
          },
          "metadata": {},
          "execution_count": 23
        }
      ]
    },
    {
      "cell_type": "markdown",
      "source": [
        "## 실습1. 시계열 데이터 분류\n",
        "---"
      ],
      "metadata": {
        "id": "adsKf_GqrbFw"
      }
    },
    {
      "cell_type": "markdown",
      "source": [
        "### **| 시계열 데이터셋**"
      ],
      "metadata": {
        "id": "tS8Z6BJxib6n"
      }
    },
    {
      "cell_type": "code",
      "source": [
        "def readucr(filename):\n",
        "    data = np.loadtxt(filename, delimiter=\"\\t\")\n",
        "    y = data[:, 0]\n",
        "    x = data[:, 1:]\n",
        "    return x, y.astype(int)\n",
        "\n",
        "\n",
        "root_url = \"https://raw.githubusercontent.com/hfawaz/cd-diagram/master/FordA/\"\n",
        "\n",
        "x_train, y_train = readucr(root_url + \"FordA_TRAIN.tsv\")\n",
        "x_test, y_test = readucr(root_url + \"FordA_TEST.tsv\")\n",
        "\n",
        "x_train = x_train.reshape((x_train.shape[0], x_train.shape[1], 1))\n",
        "x_test = x_test.reshape((x_test.shape[0], x_test.shape[1], 1))\n",
        "\n",
        "n_classes = len(np.unique(y_train))\n",
        "\n",
        "idx = np.random.permutation(len(x_train))\n",
        "x_train = x_train[idx]\n",
        "y_train = y_train[idx]\n",
        "\n",
        "y_train[y_train == -1] = 0\n",
        "y_test[y_test == -1] = 0"
      ],
      "metadata": {
        "id": "1ngVAq1FEy1v"
      },
      "execution_count": null,
      "outputs": []
    },
    {
      "cell_type": "code",
      "source": [
        "print(x_train.shape, y_train.shape)\n",
        "\n",
        "idx = 10\n",
        "plt.subplot(121)\n",
        "plt.title(y_train[idx])\n",
        "plt.plot(x_train[idx])\n",
        "\n",
        "plt.subplot(122)\n",
        "plt.hist(y_train)\n",
        "plt.show()"
      ],
      "metadata": {
        "id": "JrwNOqUXE3Lm",
        "colab": {
          "base_uri": "https://localhost:8080/",
          "height": 299
        },
        "outputId": "5d73e654-6d93-4f99-c394-8d7d9a1e5748"
      },
      "execution_count": null,
      "outputs": [
        {
          "output_type": "stream",
          "name": "stdout",
          "text": [
            "(3601, 500, 1) (3601,)\n"
          ]
        },
        {
          "output_type": "display_data",
          "data": {
            "text/plain": [
              "<Figure size 432x288 with 2 Axes>"
            ],
            "image/png": "[encoded data removed]"
          },
          "metadata": {
            "needs_background": "light"
          }
        }
      ]
    },
    {
      "cell_type": "markdown",
      "source": [
        "\n",
        "### **| 모델 구현**"
      ],
      "metadata": {
        "id": "I-zZMs1xd2uI"
      }
    },
    {
      "cell_type": "code",
      "source": [
        "### Set params\n",
        "input_shape = (500, 1) # ( T/S, d_model)\n",
        "n_classes = 2\n",
        "N = 4\n",
        "h = 4\n",
        "d_k = 128\n",
        "d_ff = 4\n",
        "\n",
        "### 모델 구현\n",
        "\n",
        "# Set Input\n",
        "inputs = layers.Input(shape = input_shape)\n",
        "\n",
        "# Encoder Block\n",
        "y = inputs\n",
        "for i in range(N):\n",
        "  encoder = encoder_block(input_shape,\n",
        "                          h,\n",
        "                          d_k,\n",
        "                          d_ff,\n",
        "                          name = f'encoder_{i}')\n",
        "  y = encoder(y)\n",
        "\n",
        "# Classifier\n",
        "y = layers.GlobalAveragePooling1D(data_format = 'channels_first')(y)\n",
        "y = layers.Dense(128, activation = 'relu')(y)\n",
        "y = layers.Dropout(0.5)(y)\n",
        "y = layers.Dense(n_classes, activation = 'softmax')(y)\n",
        "\n",
        "\n",
        "# Final model\n",
        "model = models.Model(inputs, y, name = 'TransfomerEncoderCfy')\n",
        "model.summary()"
      ],
      "metadata": {
        "id": "1D4ITo01Z0HX",
        "colab": {
          "base_uri": "https://localhost:8080/"
        },
        "outputId": "85f3e647-1d6c-4aba-dbe4-e350639e2828"
      },
      "execution_count": null,
      "outputs": [
        {
          "output_type": "stream",
          "name": "stdout",
          "text": [
            "Model: \"TransfomerEncoderCfy\"\n",
            "_________________________________________________________________\n",
            " Layer (type)                Output Shape              Param #   \n",
            "=================================================================\n",
            " input_39 (InputLayer)       [(None, 500, 1)]          0         \n",
            "                                                                 \n",
            " encoder_0 (Functional)      (None, 500, 1)            3602      \n",
            "                                                                 \n",
            " encoder_1 (Functional)      (None, 500, 1)            3602      \n",
            "                                                                 \n",
            " encoder_2 (Functional)      (None, 500, 1)            3602      \n",
            "                                                                 \n",
            " encoder_3 (Functional)      (None, 500, 1)            3602      \n",
            "                                                                 \n",
            " global_average_pooling1d_4   (None, 500)              0         \n",
            " (GlobalAveragePooling1D)                                        \n",
            "                                                                 \n",
            " dense_3 (Dense)             (None, 128)               64128     \n",
            "                                                                 \n",
            " dropout_64 (Dropout)        (None, 128)               0         \n",
            "                                                                 \n",
            " dense_4 (Dense)             (None, 2)                 258       \n",
            "                                                                 \n",
            "=================================================================\n",
            "Total params: 78,794\n",
            "Trainable params: 78,794\n",
            "Non-trainable params: 0\n",
            "_________________________________________________________________\n"
          ]
        }
      ]
    },
    {
      "cell_type": "code",
      "source": [
        "model.compile(loss = 'sparse_categorical_crossentropy',\n",
        "              optimizer = tf.keras.optimizers.Adam(0.0001),\n",
        "              metrics = 'acc')\n",
        "es = tf.keras.callbacks.EarlyStopping(patience=8, restore_best_weights = True)\n",
        "model.fit(x_train, y_train,\n",
        "          validation_data = [x_test, y_test],\n",
        "          epochs = 50,\n",
        "          batch_size = 64,\n",
        "          callbacks = [es])"
      ],
      "metadata": {
        "id": "hOpei2oVnJmo",
        "colab": {
          "base_uri": "https://localhost:8080/"
        },
        "outputId": "dcbbd56e-f4dc-4815-c9d3-9d1ef9508aff"
      },
      "execution_count": null,
      "outputs": [
        {
          "output_type": "stream",
          "name": "stdout",
          "text": [
            "Epoch 1/50\n",
            "57/57 [==============================] - 26s 202ms/step - loss: 0.9818 - acc: 0.5079 - val_loss: 0.6946 - val_acc: 0.4841\n",
            "Epoch 2/50\n",
            "57/57 [==============================] - 11s 193ms/step - loss: 0.7544 - acc: 0.5001 - val_loss: 0.6927 - val_acc: 0.5159\n",
            "Epoch 3/50\n",
            "57/57 [==============================] - 11s 193ms/step - loss: 0.7052 - acc: 0.4832 - val_loss: 0.6930 - val_acc: 0.5159\n",
            "Epoch 4/50\n",
            "57/57 [==============================] - 11s 193ms/step - loss: 0.6995 - acc: 0.4896 - val_loss: 0.6948 - val_acc: 0.5159\n",
            "Epoch 5/50\n",
            "57/57 [==============================] - 11s 193ms/step - loss: 0.6934 - acc: 0.5043 - val_loss: 0.6928 - val_acc: 0.5159\n",
            "Epoch 6/50\n",
            "57/57 [==============================] - 11s 193ms/step - loss: 0.6939 - acc: 0.5124 - val_loss: 0.6928 - val_acc: 0.5159\n",
            "Epoch 7/50\n",
            "57/57 [==============================] - 11s 193ms/step - loss: 0.6935 - acc: 0.5146 - val_loss: 0.6927 - val_acc: 0.5159\n",
            "Epoch 8/50\n",
            "57/57 [==============================] - 11s 193ms/step - loss: 0.6939 - acc: 0.5046 - val_loss: 0.6927 - val_acc: 0.5159\n",
            "Epoch 9/50\n",
            "57/57 [==============================] - 11s 193ms/step - loss: 0.6931 - acc: 0.5074 - val_loss: 0.6926 - val_acc: 0.5159\n",
            "Epoch 10/50\n",
            "57/57 [==============================] - 11s 193ms/step - loss: 0.6935 - acc: 0.5082 - val_loss: 0.6927 - val_acc: 0.5159\n",
            "Epoch 11/50\n",
            "57/57 [==============================] - 11s 193ms/step - loss: 0.6931 - acc: 0.5071 - val_loss: 0.6927 - val_acc: 0.5159\n",
            "Epoch 12/50\n",
            "57/57 [==============================] - 11s 193ms/step - loss: 0.6940 - acc: 0.5040 - val_loss: 0.6927 - val_acc: 0.5159\n",
            "Epoch 13/50\n",
            "57/57 [==============================] - 11s 193ms/step - loss: 0.6929 - acc: 0.5135 - val_loss: 0.6927 - val_acc: 0.5159\n",
            "Epoch 14/50\n",
            "57/57 [==============================] - 11s 193ms/step - loss: 0.6930 - acc: 0.5054 - val_loss: 0.6928 - val_acc: 0.5159\n",
            "Epoch 15/50\n",
            "57/57 [==============================] - 11s 193ms/step - loss: 0.6930 - acc: 0.5171 - val_loss: 0.6928 - val_acc: 0.5159\n",
            "Epoch 16/50\n",
            "57/57 [==============================] - 11s 193ms/step - loss: 0.6931 - acc: 0.5040 - val_loss: 0.6928 - val_acc: 0.5159\n",
            "Epoch 17/50\n",
            "57/57 [==============================] - 11s 194ms/step - loss: 0.6935 - acc: 0.4949 - val_loss: 0.6928 - val_acc: 0.5159\n"
          ]
        },
        {
          "output_type": "execute_result",
          "data": {
            "text/plain": [
              "<keras.callbacks.History at 0x7f8526ead510>"
            ]
          },
          "metadata": {},
          "execution_count": 41
        }
      ]
    },
    {
      "cell_type": "code",
      "source": [],
      "metadata": {
        "id": "cwOBhu0XsBbp"
      },
      "execution_count": null,
      "outputs": []
    },
    {
      "cell_type": "markdown",
      "source": [
        "## 실습2. IMDB 텍스트 분류\n",
        "---"
      ],
      "metadata": {
        "id": "6A9BPqyPrVo4"
      }
    },
    {
      "cell_type": "markdown",
      "source": [
        "### **| IMDB 데이터셋**\n"
      ],
      "metadata": {
        "id": "xnVcneSwigM3"
      }
    },
    {
      "cell_type": "code",
      "source": [
        "vocab_size = 20000  \n",
        "maxlen = 200  \n",
        "\n",
        "(x_train, y_train), (x_val, y_val) = tf.keras.datasets.imdb.load_data(num_words=vocab_size)\n",
        "print(len(x_train), \"Training sequences\")\n",
        "print(len(x_val), \"Validation sequences\")\n",
        "x_train = tf.keras.preprocessing.sequence.pad_sequences(x_train, maxlen=maxlen)\n",
        "x_val = tf.keras.preprocessing.sequence.pad_sequences(x_val, maxlen=maxlen)\n",
        "print(x_train.shape, x_val.shape)"
      ],
      "metadata": {
        "id": "zanVdSOvfEMx"
      },
      "execution_count": null,
      "outputs": []
    },
    {
      "cell_type": "code",
      "source": [
        "class TokenAndPositionEmbedding(layers.Layer):\n",
        "    def __init__(self, maxlen, vocab_size, embed_dim):\n",
        "        super(TokenAndPositionEmbedding, self).__init__()\n",
        "        self.token_emb = layers.Embedding(input_dim=vocab_size, output_dim=embed_dim)\n",
        "        self.pos_emb = layers.Embedding(input_dim=maxlen, output_dim=embed_dim)\n",
        "\n",
        "    def call(self, x):\n",
        "        maxlen = tf.shape(x)[-1]\n",
        "        positions = tf.range(start=0, limit=maxlen, delta=1)\n",
        "        positions = self.pos_emb(positions)\n",
        "        x = self.token_emb(x)\n",
        "        return x + positions"
      ],
      "metadata": {
        "id": "S2LReh_CfiG4"
      },
      "execution_count": null,
      "outputs": []
    },
    {
      "cell_type": "markdown",
      "source": [
        "\n",
        "### **| 모델 구현**"
      ],
      "metadata": {
        "id": "KZzxMCQDK5c7"
      }
    },
    {
      "cell_type": "code",
      "source": [
        "# Set params\n",
        "\n",
        "\n",
        "# Set Input\n",
        "\n",
        "# Encoder Block\n",
        "\n",
        "\n",
        "# Classifier\n",
        "\n",
        "# Final model\n"
      ],
      "metadata": {
        "id": "RY3759qfK5c7"
      },
      "execution_count": null,
      "outputs": []
    },
    {
      "cell_type": "markdown",
      "source": [
        "### **| 학습**"
      ],
      "metadata": {
        "id": "3bS4AnGMd65o"
      }
    },
    {
      "cell_type": "code",
      "source": [],
      "metadata": {
        "id": "mOCrC4IdW-if"
      },
      "execution_count": null,
      "outputs": []
    },
    {
      "cell_type": "code",
      "source": [],
      "metadata": {
        "id": "_zuy7UIjmQOH"
      },
      "execution_count": null,
      "outputs": []
    },
    {
      "cell_type": "code",
      "source": [],
      "metadata": {
        "id": "uiqzzBnNXEg2"
      },
      "execution_count": null,
      "outputs": []
    },
    {
      "cell_type": "markdown",
      "source": [
        "## 실습3. Vision Transformer\n",
        "---"
      ],
      "metadata": {
        "id": "Ga27rKRsuKgg"
      }
    },
    {
      "cell_type": "code",
      "source": [
        "def display_img_patches(img, patches=None):\n",
        "\n",
        "  # origin image\n",
        "  plt.imshow(img)\n",
        "  plt.axis('off')\n",
        "  plt.show()\n",
        " \n",
        "  if patches is not None:\n",
        "    n = int(np.sqrt(patches.shape[0]))\n",
        "    patch_size = int(img.shape[0]/n)\n",
        "\n",
        "    # patch imgs\n",
        "    plt.figure(figsize=(4, 4))\n",
        "    for i, patch in enumerate(patches):\n",
        "      ax = plt.subplot(n, n, i + 1)\n",
        "      patch_img = tf.reshape(patch, (patch_size, patch_size, 3))\n",
        "      plt.imshow(patch_img.numpy().astype(\"uint8\"))\n",
        "      plt.axis(\"off\")\n",
        "    plt.show()\n",
        "\n",
        "    # patches\n",
        "    plt.figure(figsize=(10, 2))\n",
        "    for i, patch in enumerate(patches):\n",
        "      ax = plt.subplot(1, n*n, i + 1)\n",
        "      patch = tf.expand_dims(patch, 1)\n",
        "      plt.imshow(patch.numpy().astype(\"uint8\"))\n",
        "      plt.axis(\"off\")\n",
        "    plt.show()"
      ],
      "metadata": {
        "id": "jyvroA8DLeIZ"
      },
      "execution_count": 52,
      "outputs": []
    },
    {
      "cell_type": "code",
      "source": [
        "(x_train, y_train), (x_test, y_test) = tf.keras.datasets.cifar100.load_data() # 100 개의 클래스 \n",
        "x_train.shape, y_train.shape"
      ],
      "metadata": {
        "id": "-BTU3lHQuMO1",
        "colab": {
          "base_uri": "https://localhost:8080/"
        },
        "outputId": "03dc228b-16c8-473c-83ef-e13dd8b9972f"
      },
      "execution_count": 53,
      "outputs": [
        {
          "output_type": "execute_result",
          "data": {
            "text/plain": [
              "((50000, 32, 32, 3), (50000, 1))"
            ]
          },
          "metadata": {},
          "execution_count": 53
        }
      ]
    },
    {
      "cell_type": "code",
      "source": [
        "idx = 12\n",
        "display_img_patches(x_train[idx])"
      ],
      "metadata": {
        "id": "BW_l5s3_EnjR",
        "colab": {
          "base_uri": "https://localhost:8080/",
          "height": 248
        },
        "outputId": "31c4ac77-487f-4ba9-dfe0-1cbce6545d5e"
      },
      "execution_count": null,
      "outputs": [
        {
          "output_type": "display_data",
          "data": {
            "text/plain": [
              "<Figure size 432x288 with 1 Axes>"
            ],
            "image/png": "[encoded data removed]"
          },
          "metadata": {
            "needs_background": "light"
          }
        }
      ]
    },
    {
      "cell_type": "markdown",
      "source": [
        "### **| 이미지 증강**"
      ],
      "metadata": {
        "id": "ayGzpMWKLMgL"
      }
    },
    {
      "cell_type": "code",
      "source": [
        "def aug_model(resize=72):\n",
        "                # 전처리\n",
        "  aug_layers = [layers.Normalization(),  # 정규화 1/255\n",
        "                layers.Resizing(resize, resize),  # 리사이즈 \n",
        "                # 증강\n",
        "                layers.RandomFlip(mode='horizontal'), # 랜덤플립\n",
        "                layers.RandomRotation(factor=0.02), # 랜덤 회전\n",
        "                layers.RandomZoom(height_factor=0.2, width_factor=0.2)] # 랜덤 확대\n",
        "\n",
        "  model = tf.keras.Sequential(aug_layers, name='ImgAug')\n",
        "  return model\n",
        "\n",
        "# train / valid / test : train set에만 자동적으로 증강 레이어가 적용\n",
        "\n",
        "x_img = x_train[idx]\n",
        "x_aug = aug_model()(x_img)\n",
        "\n",
        "display_img_patches(x_aug.numpy().astype('uint8'))\n",
        "x_img.shape, x_aug.shape"
      ],
      "metadata": {
        "id": "njrj1EnTPfBw",
        "colab": {
          "base_uri": "https://localhost:8080/",
          "height": 266
        },
        "outputId": "533bad40-c2a0-4b7a-e134-b542cdc36a58"
      },
      "execution_count": 54,
      "outputs": [
        {
          "output_type": "display_data",
          "data": {
            "text/plain": [
              "<Figure size 432x288 with 1 Axes>"
            ],
            "image/png": "[encoded data removed]"
          },
          "metadata": {
            "needs_background": "light"
          }
        },
        {
          "output_type": "execute_result",
          "data": {
            "text/plain": [
              "((32, 32, 3), TensorShape([72, 72, 3]))"
            ]
          },
          "metadata": {},
          "execution_count": 54
        }
      ]
    },
    {
      "cell_type": "markdown",
      "source": [
        "### **| Patch 생성**"
      ],
      "metadata": {
        "id": "o7bXeAwN_mwZ"
      }
    },
    {
      "cell_type": "code",
      "source": [
        "class MakePatchLayer(layers.Layer):\n",
        "  def __init__(self, patch_size):\n",
        "    super(MakePatchLayer, self).__init__()\n",
        "    self.patch_size = patch_size\n",
        "\n",
        "  def call(self, imgs): # (batch, h, w, ch)\n",
        "    x_patches = tf.image.extract_patches( images = imgs,\n",
        "                                          sizes = [1, self.patch_size, self.patch_size, 1],  \n",
        "                                          strides = [1, self.patch_size, self.patch_size, 1],\n",
        "                                          rates = [1, 1, 1, 1], \n",
        "                                          padding = 'VALID')\n",
        "    # (batch_size, Hpatch개수 , Wpatch개수, patch 차원((patchsize**2)*3 ) )\n",
        "    batch_size = tf.shape(x_patches)[0]\n",
        "    d_patches = tf.shape(x_patches)[-1]\n",
        "\n",
        "    x_patches = tf.reshape(x_patches, [batch_size, -1 , d_patches] )\n",
        "    # (batch_size, patch 개수, patch 차원)\n",
        "    return x_patches"
      ],
      "metadata": {
        "id": "ApoNC3tUv0dB"
      },
      "execution_count": 59,
      "outputs": []
    },
    {
      "cell_type": "code",
      "source": [
        "x_patches = MakePatchLayer(12)(x_aug)\n",
        "print(x_aug.shape, x_patches.shape)\n",
        "display_img_patches(x_aug[0].numpy().astype('uint8'), x_patches[0])"
      ],
      "metadata": {
        "id": "jWt00XZDv37Y",
        "colab": {
          "base_uri": "https://localhost:8080/",
          "height": 455
        },
        "outputId": "a85dfe10-d3b7-4407-fb1e-06102212283b"
      },
      "execution_count": 60,
      "outputs": [
        {
          "output_type": "error",
          "ename": "InvalidArgumentError",
          "evalue": "ignored",
          "traceback": [
            "\u001b[0;31m---------------------------------------------------------------------------\u001b[0m",
            "\u001b[0;31mInvalidArgumentError\u001b[0m                      Traceback (most recent call last)",
            "\u001b[0;32m<ipython-input-60-d5162defc3ab>\u001b[0m in \u001b[0;36m<module>\u001b[0;34m\u001b[0m\n\u001b[0;32m----> 1\u001b[0;31m \u001b[0mx_patches\u001b[0m \u001b[0;34m=\u001b[0m \u001b[0mMakePatchLayer\u001b[0m\u001b[0;34m(\u001b[0m\u001b[0;36m12\u001b[0m\u001b[0;34m)\u001b[0m\u001b[0;34m(\u001b[0m\u001b[0mx_aug\u001b[0m\u001b[0;34m)\u001b[0m\u001b[0;34m\u001b[0m\u001b[0;34m\u001b[0m\u001b[0m\n\u001b[0m\u001b[1;32m      2\u001b[0m \u001b[0mprint\u001b[0m\u001b[0;34m(\u001b[0m\u001b[0mx_aug\u001b[0m\u001b[0;34m.\u001b[0m\u001b[0mshape\u001b[0m\u001b[0;34m,\u001b[0m \u001b[0mx_patches\u001b[0m\u001b[0;34m.\u001b[0m\u001b[0mshape\u001b[0m\u001b[0;34m)\u001b[0m\u001b[0;34m\u001b[0m\u001b[0;34m\u001b[0m\u001b[0m\n\u001b[1;32m      3\u001b[0m \u001b[0mdisplay_img_patches\u001b[0m\u001b[0;34m(\u001b[0m\u001b[0mx_aug\u001b[0m\u001b[0;34m[\u001b[0m\u001b[0;36m0\u001b[0m\u001b[0;34m]\u001b[0m\u001b[0;34m.\u001b[0m\u001b[0mnumpy\u001b[0m\u001b[0;34m(\u001b[0m\u001b[0;34m)\u001b[0m\u001b[0;34m.\u001b[0m\u001b[0mastype\u001b[0m\u001b[0;34m(\u001b[0m\u001b[0;34m'uint8'\u001b[0m\u001b[0;34m)\u001b[0m\u001b[0;34m,\u001b[0m \u001b[0mx_patches\u001b[0m\u001b[0;34m[\u001b[0m\u001b[0;36m0\u001b[0m\u001b[0;34m]\u001b[0m\u001b[0;34m)\u001b[0m\u001b[0;34m\u001b[0m\u001b[0;34m\u001b[0m\u001b[0m\n",
            "\u001b[0;32m/usr/local/lib/python3.7/dist-packages/keras/utils/traceback_utils.py\u001b[0m in \u001b[0;36merror_handler\u001b[0;34m(*args, **kwargs)\u001b[0m\n\u001b[1;32m     65\u001b[0m     \u001b[0;32mexcept\u001b[0m \u001b[0mException\u001b[0m \u001b[0;32mas\u001b[0m \u001b[0me\u001b[0m\u001b[0;34m:\u001b[0m  \u001b[0;31m# pylint: disable=broad-except\u001b[0m\u001b[0;34m\u001b[0m\u001b[0;34m\u001b[0m\u001b[0m\n\u001b[1;32m     66\u001b[0m       \u001b[0mfiltered_tb\u001b[0m \u001b[0;34m=\u001b[0m \u001b[0m_process_traceback_frames\u001b[0m\u001b[0;34m(\u001b[0m\u001b[0me\u001b[0m\u001b[0;34m.\u001b[0m\u001b[0m__traceback__\u001b[0m\u001b[0;34m)\u001b[0m\u001b[0;34m\u001b[0m\u001b[0;34m\u001b[0m\u001b[0m\n\u001b[0;32m---> 67\u001b[0;31m       \u001b[0;32mraise\u001b[0m \u001b[0me\u001b[0m\u001b[0;34m.\u001b[0m\u001b[0mwith_traceback\u001b[0m\u001b[0;34m(\u001b[0m\u001b[0mfiltered_tb\u001b[0m\u001b[0;34m)\u001b[0m \u001b[0;32mfrom\u001b[0m \u001b[0;32mNone\u001b[0m\u001b[0;34m\u001b[0m\u001b[0;34m\u001b[0m\u001b[0m\n\u001b[0m\u001b[1;32m     68\u001b[0m     \u001b[0;32mfinally\u001b[0m\u001b[0;34m:\u001b[0m\u001b[0;34m\u001b[0m\u001b[0;34m\u001b[0m\u001b[0m\n\u001b[1;32m     69\u001b[0m       \u001b[0;32mdel\u001b[0m \u001b[0mfiltered_tb\u001b[0m\u001b[0;34m\u001b[0m\u001b[0;34m\u001b[0m\u001b[0m\n",
            "\u001b[0;32m<ipython-input-59-a530e9ffff82>\u001b[0m in \u001b[0;36mcall\u001b[0;34m(self, imgs)\u001b[0m\n\u001b[1;32m      9\u001b[0m                                           \u001b[0mstrides\u001b[0m \u001b[0;34m=\u001b[0m \u001b[0;34m[\u001b[0m\u001b[0;36m1\u001b[0m\u001b[0;34m,\u001b[0m \u001b[0mself\u001b[0m\u001b[0;34m.\u001b[0m\u001b[0mpatch_size\u001b[0m\u001b[0;34m,\u001b[0m \u001b[0mself\u001b[0m\u001b[0;34m.\u001b[0m\u001b[0mpatch_size\u001b[0m\u001b[0;34m,\u001b[0m \u001b[0;36m1\u001b[0m\u001b[0;34m]\u001b[0m\u001b[0;34m,\u001b[0m\u001b[0;34m\u001b[0m\u001b[0;34m\u001b[0m\u001b[0m\n\u001b[1;32m     10\u001b[0m                                           \u001b[0mrates\u001b[0m \u001b[0;34m=\u001b[0m \u001b[0;34m[\u001b[0m\u001b[0;36m1\u001b[0m\u001b[0;34m,\u001b[0m \u001b[0;36m1\u001b[0m\u001b[0;34m,\u001b[0m \u001b[0;36m1\u001b[0m\u001b[0;34m,\u001b[0m \u001b[0;36m1\u001b[0m\u001b[0;34m]\u001b[0m\u001b[0;34m,\u001b[0m\u001b[0;34m\u001b[0m\u001b[0;34m\u001b[0m\u001b[0m\n\u001b[0;32m---> 11\u001b[0;31m                                           padding = 'VALID')\n\u001b[0m\u001b[1;32m     12\u001b[0m     \u001b[0;31m# (batch_size, Hpatch개수 , Wpatch개수, patch 차원((patchsize**2)*3 ) )\u001b[0m\u001b[0;34m\u001b[0m\u001b[0;34m\u001b[0m\u001b[0;34m\u001b[0m\u001b[0m\n\u001b[1;32m     13\u001b[0m     \u001b[0mbatch_size\u001b[0m \u001b[0;34m=\u001b[0m \u001b[0mtf\u001b[0m\u001b[0;34m.\u001b[0m\u001b[0mshape\u001b[0m\u001b[0;34m(\u001b[0m\u001b[0mx_patches\u001b[0m\u001b[0;34m)\u001b[0m\u001b[0;34m[\u001b[0m\u001b[0;36m0\u001b[0m\u001b[0;34m]\u001b[0m\u001b[0;34m\u001b[0m\u001b[0;34m\u001b[0m\u001b[0m\n",
            "\u001b[0;31mInvalidArgumentError\u001b[0m: Exception encountered when calling layer \"make_patch_layer_1\" (type MakePatchLayer).\n\ninput must be 4-dimensional[72,72,3] [Op:ExtractImagePatches]\n\nCall arguments received:\n  • imgs=tf.Tensor(shape=(72, 72, 3), dtype=float32)"
          ]
        }
      ]
    },
    {
      "cell_type": "markdown",
      "source": [
        "### **| Patch Encoder**"
      ],
      "metadata": {
        "id": "NDDhrJtb_rKp"
      }
    },
    {
      "cell_type": "code",
      "source": [
        "project_dim = 128\n",
        "num_patches = tf.shape(x_patches)[1]\n",
        "print(f'- flatten patches: {x_patches.shape}')\n",
        "\n",
        "# patch linear projection\n",
        "projected = layers.Dense(project_dim)(x_patches)\n",
        "print(f'- projected patches: {projected.shape}')\n",
        "\n",
        "# position embedding\n",
        "positions = tf.range(0, num_patches, 1)\n",
        "print(f'- positions: {positions}, num_patches: {num_patches}')\n",
        "embed = layers.Embedding(num_patches, project_dim)(positions)\n",
        "print(f'- embed postions: {embed.shape}')\n",
        "\n",
        "# position+patch encoding\n",
        "encoded = projected + embed\n",
        "print(f'- encoding result: {encoded.shape}')"
      ],
      "metadata": {
        "id": "4TF3PvGB_kuJ",
        "colab": {
          "base_uri": "https://localhost:8080/"
        },
        "outputId": "afa05416-49f4-4990-ff5a-5c7c83feac15"
      },
      "execution_count": 61,
      "outputs": [
        {
          "output_type": "stream",
          "name": "stdout",
          "text": [
            "- flatten patches: (1, 36, 432)\n",
            "- projected patches: (1, 36, 128)\n",
            "- positions: [ 0  1  2  3  4  5  6  7  8  9 10 11 12 13 14 15 16 17 18 19 20 21 22 23\n",
            " 24 25 26 27 28 29 30 31 32 33 34 35], num_patches: 36\n",
            "- embed postions: (36, 128)\n",
            "- encoding result: (1, 36, 128)\n"
          ]
        }
      ]
    },
    {
      "cell_type": "code",
      "source": [
        "class PatchPositionEncoder(layers.Layer):\n",
        "  def __init__(self, project_dim, num_patches):\n",
        "    super(PatchPositionEncoder, self).__init__()\n",
        "    self.project_dim = project_dim\n",
        "    self.num_patches = num_patches\n",
        "    \n",
        "    self.dense = layers.Dense(project_dim)\n",
        "    self.embedding = layers.Embedding(num_patches, project_dim)\n",
        "\n",
        "  def call(self, patches): # (batch, h, w, ch)\n",
        "    # patch linear projection\n",
        "    projected = self.dense(patches)\n",
        "\n",
        "    # position embedding\n",
        "    positions = tf.range(0, self.num_patches, 1)\n",
        "    embed = self.embedding(positions)\n",
        "\n",
        "    # position+patch encoding\n",
        "    encoded = projected + embed\n",
        "    return encoded\n",
        "\n",
        "encoded = PatchPositionEncoder(128, 36)(x_patches)\n",
        "print(x_patches.shape, encoded.shape)"
      ],
      "metadata": {
        "id": "Lf1Z-aaYBWUR",
        "colab": {
          "base_uri": "https://localhost:8080/"
        },
        "outputId": "e6821094-03f9-4272-9ef7-96c0075ffe21"
      },
      "execution_count": 62,
      "outputs": [
        {
          "output_type": "stream",
          "name": "stdout",
          "text": [
            "(1, 36, 432) (1, 36, 128)\n"
          ]
        }
      ]
    },
    {
      "cell_type": "markdown",
      "source": [
        "\n",
        "### **| 모델 구현**"
      ],
      "metadata": {
        "id": "9DnMP2RyLFmD"
      }
    },
    {
      "cell_type": "code",
      "source": [
        "def encoder_block(input_shape, h, d_k, d_ff, dropout=0.25, name=None):\n",
        "    inputs = layers.Input(shape=input_shape)\n",
        "    # Attention and Normalization\n",
        "    y = layers.LayerNormalization(epsilon=1e-6)(inputs)\n",
        "    y = layers.MultiHeadAttention(num_heads= h,\n",
        "                                  key_dim= d_k, \n",
        "                                  dropout= dropout)(y, y)\n",
        "    z = layers.Add()([y, inputs])\n",
        "\n",
        "    # Feed Forward Part\n",
        "    y = layers.LayerNormalization(epsilon=1e-6)(z)\n",
        "    y = layers.Conv1D(filters=d_ff, kernel_size=1, activation='relu')(y)\n",
        "    y = layers.Dropout(dropout)(y)\n",
        "    y = layers.Conv1D(filters=inputs.shape[-1], kernel_size=1, activation='relu')(y)\n",
        "    outputs = layers.Add()([y, z])\n",
        "\n",
        "    return models.Model(inputs, outputs, name=name)"
      ],
      "metadata": {
        "id": "Vo-iIEfwviGX"
      },
      "execution_count": 63,
      "outputs": []
    },
    {
      "cell_type": "code",
      "source": [
        "x_train.shape"
      ],
      "metadata": {
        "colab": {
          "base_uri": "https://localhost:8080/"
        },
        "id": "jKop3K9F1pzB",
        "outputId": "38004b35-d4a0-4975-e3ff-e92ca562b6b2"
      },
      "execution_count": 64,
      "outputs": [
        {
          "output_type": "execute_result",
          "data": {
            "text/plain": [
              "(50000, 32, 32, 3)"
            ]
          },
          "metadata": {},
          "execution_count": 64
        }
      ]
    },
    {
      "cell_type": "code",
      "source": [
        "### Set params\n",
        "input_shape = (32,32,3)\n",
        "resize = 72\n",
        "patch_size = 6\n",
        "project_dim = 64\n",
        "num_patches = int(resize/patch_size)**2\n",
        "n_classes = 100\n",
        "\n",
        "## Transformer units\n",
        "N = 8\n",
        "h = 4\n",
        "d_k = 32\n",
        "d_ff = 32\n",
        "\n",
        "### 모델 구현\n",
        "# Set Input\n",
        "inputs = layers.Input(shape=input_shape)\n",
        "# Augment img\n",
        "y = aug_model(resize=resize)(inputs)\n",
        "# Make patches\n",
        "y = MakePatchLayer(patch_size)(y)\n",
        "# Encoding\n",
        "y = PatchPositionEncoder(project_dim, num_patches)(y)\n",
        "\n",
        "# Encoder Block\n",
        "for i in range(N):\n",
        "  encoder = encoder_block(y.shape[1:], \n",
        "                          h, \n",
        "                          d_k, \n",
        "                          d_ff, \n",
        "                          name=f'encoder_{i}')\n",
        "  y = encoder(y)\n",
        "\n",
        "# Classifier\n",
        "y = layers.LayerNormalization(epsilon=1e-6)(y)\n",
        "y = layers.Flatten()(y)\n",
        "\n",
        "y = layers.Dropout(0.5)(y)\n",
        "y = layers.Dense(2048, activation='gelu')(y)\n",
        "y = layers.Dropout(0.5)(y)\n",
        "y = layers.Dense(1024, activation='gelu')(y)\n",
        "y = layers.Dropout(0.5)(y)\n",
        "\n",
        "y = layers.Dense(n_classes, activation='softmax')(y)\n",
        "# Final model\n",
        "model = models.Model(inputs, y, name='TransformerEncoderCfy')\n",
        "model.summary()"
      ],
      "metadata": {
        "id": "mcmD_hQtLFmI",
        "colab": {
          "base_uri": "https://localhost:8080/"
        },
        "outputId": "0b80df06-364a-483e-ac7f-b3b1d0b22557"
      },
      "execution_count": 66,
      "outputs": [
        {
          "output_type": "stream",
          "name": "stdout",
          "text": [
            "Model: \"TransformerEncoderCfy\"\n",
            "_________________________________________________________________\n",
            " Layer (type)                Output Shape              Param #   \n",
            "=================================================================\n",
            " input_48 (InputLayer)       [(None, 32, 32, 3)]       0         \n",
            "                                                                 \n",
            " ImgAug (Sequential)         (None, 72, 72, 3)         7         \n",
            "                                                                 \n",
            " make_patch_layer_2 (MakePat  (None, None, 108)        0         \n",
            " chLayer)                                                        \n",
            "                                                                 \n",
            " patch_position_encoder_11 (  (None, 144, 64)          16192     \n",
            " PatchPositionEncoder)                                           \n",
            "                                                                 \n",
            " encoder_0 (Functional)      (None, 144, 64)           37664     \n",
            "                                                                 \n",
            " encoder_1 (Functional)      (None, 144, 64)           37664     \n",
            "                                                                 \n",
            " encoder_2 (Functional)      (None, 144, 64)           37664     \n",
            "                                                                 \n",
            " encoder_3 (Functional)      (None, 144, 64)           37664     \n",
            "                                                                 \n",
            " encoder_4 (Functional)      (None, 144, 64)           37664     \n",
            "                                                                 \n",
            " encoder_5 (Functional)      (None, 144, 64)           37664     \n",
            "                                                                 \n",
            " encoder_6 (Functional)      (None, 144, 64)           37664     \n",
            "                                                                 \n",
            " encoder_7 (Functional)      (None, 144, 64)           37664     \n",
            "                                                                 \n",
            " layer_normalization_95 (Lay  (None, 144, 64)          128       \n",
            " erNormalization)                                                \n",
            "                                                                 \n",
            " flatten_4 (Flatten)         (None, 9216)              0         \n",
            "                                                                 \n",
            " dropout_57 (Dropout)        (None, 9216)              0         \n",
            "                                                                 \n",
            " dense_32 (Dense)            (None, 2048)              18876416  \n",
            "                                                                 \n",
            " dropout_58 (Dropout)        (None, 2048)              0         \n",
            "                                                                 \n",
            " dense_33 (Dense)            (None, 1024)              2098176   \n",
            "                                                                 \n",
            " dropout_59 (Dropout)        (None, 1024)              0         \n",
            "                                                                 \n",
            " dense_34 (Dense)            (None, 100)               102500    \n",
            "                                                                 \n",
            "=================================================================\n",
            "Total params: 21,394,731\n",
            "Trainable params: 21,394,724\n",
            "Non-trainable params: 7\n",
            "_________________________________________________________________\n"
          ]
        }
      ]
    },
    {
      "cell_type": "code",
      "source": [
        "# callback lr 조절\n",
        "model.compile(\n",
        "    optimizer = tf.keras.optimizers.Adam(),\n",
        "    loss = tf.keras.losses.SparseCategoricalCrossentropy(),\n",
        "    metrics = [tf.keras.metrics.SparseCategoricalAccuracy(name='acc'),\n",
        "               tf.keras.metrics.SparseTopKCategoricalAccuracy(5, name='top-5-acc') \n",
        "               ]\n",
        ")"
      ],
      "metadata": {
        "id": "YenNp6ly2nPq"
      },
      "execution_count": 67,
      "outputs": []
    },
    {
      "cell_type": "code",
      "source": [
        "history = model.fit(x_train, y_train,\n",
        "                    batch_size = 256, \n",
        "                    epochs = 50, \n",
        "                    validation_data=(x_test, y_test))"
      ],
      "metadata": {
        "id": "pUQJXpex4j1h",
        "colab": {
          "base_uri": "https://localhost:8080/"
        },
        "outputId": "dde032e8-332c-4b67-c659-702b65ef5b3e"
      },
      "execution_count": 68,
      "outputs": [
        {
          "output_type": "stream",
          "name": "stdout",
          "text": [
            "Epoch 1/50\n",
            "196/196 [==============================] - 47s 199ms/step - loss: 4.6893 - acc: 0.0217 - top-5-acc: 0.0978 - val_loss: 4.3658 - val_acc: 0.0438 - val_top-5-acc: 0.1647\n",
            "Epoch 2/50\n",
            "196/196 [==============================] - 37s 191ms/step - loss: 4.3904 - acc: 0.0317 - top-5-acc: 0.1346 - val_loss: 4.2110 - val_acc: 0.0500 - val_top-5-acc: 0.2137\n",
            "Epoch 3/50\n",
            "196/196 [==============================] - 37s 191ms/step - loss: 4.2544 - acc: 0.0455 - top-5-acc: 0.1806 - val_loss: 4.1194 - val_acc: 0.0711 - val_top-5-acc: 0.2507\n",
            "Epoch 4/50\n",
            "196/196 [==============================] - 37s 191ms/step - loss: 4.1519 - acc: 0.0577 - top-5-acc: 0.2138 - val_loss: 3.9488 - val_acc: 0.0911 - val_top-5-acc: 0.3018\n",
            "Epoch 5/50\n",
            "196/196 [==============================] - 37s 191ms/step - loss: 4.0570 - acc: 0.0704 - top-5-acc: 0.2479 - val_loss: 3.9303 - val_acc: 0.0962 - val_top-5-acc: 0.3124\n",
            "Epoch 6/50\n",
            "196/196 [==============================] - 37s 191ms/step - loss: 3.9591 - acc: 0.0805 - top-5-acc: 0.2762 - val_loss: 3.8158 - val_acc: 0.1164 - val_top-5-acc: 0.3539\n",
            "Epoch 7/50\n",
            "196/196 [==============================] - 37s 191ms/step - loss: 3.9799 - acc: 0.0812 - top-5-acc: 0.2716 - val_loss: 3.8786 - val_acc: 0.1129 - val_top-5-acc: 0.3373\n",
            "Epoch 8/50\n",
            "196/196 [==============================] - 37s 191ms/step - loss: 3.9401 - acc: 0.0852 - top-5-acc: 0.2844 - val_loss: 3.7931 - val_acc: 0.1255 - val_top-5-acc: 0.3618\n",
            "Epoch 9/50\n",
            "196/196 [==============================] - 37s 191ms/step - loss: 3.8242 - acc: 0.1011 - top-5-acc: 0.3211 - val_loss: 3.6510 - val_acc: 0.1460 - val_top-5-acc: 0.4073\n",
            "Epoch 10/50\n",
            "196/196 [==============================] - 37s 191ms/step - loss: 3.7598 - acc: 0.1121 - top-5-acc: 0.3405 - val_loss: 3.6123 - val_acc: 0.1558 - val_top-5-acc: 0.4237\n",
            "Epoch 11/50\n",
            "196/196 [==============================] - 37s 191ms/step - loss: 3.6741 - acc: 0.1271 - top-5-acc: 0.3669 - val_loss: 3.4187 - val_acc: 0.1884 - val_top-5-acc: 0.4603\n",
            "Epoch 12/50\n",
            "196/196 [==============================] - 37s 191ms/step - loss: 3.5431 - acc: 0.1510 - top-5-acc: 0.4060 - val_loss: 3.3807 - val_acc: 0.1993 - val_top-5-acc: 0.4769\n",
            "Epoch 13/50\n",
            "196/196 [==============================] - 37s 191ms/step - loss: 3.4352 - acc: 0.1711 - top-5-acc: 0.4381 - val_loss: 3.2688 - val_acc: 0.2169 - val_top-5-acc: 0.5005\n",
            "Epoch 14/50\n",
            "196/196 [==============================] - 37s 190ms/step - loss: 3.3406 - acc: 0.1864 - top-5-acc: 0.4623 - val_loss: 3.1243 - val_acc: 0.2348 - val_top-5-acc: 0.5291\n",
            "Epoch 15/50\n",
            "196/196 [==============================] - 37s 190ms/step - loss: 3.2515 - acc: 0.2054 - top-5-acc: 0.4900 - val_loss: 3.1160 - val_acc: 0.2473 - val_top-5-acc: 0.5330\n",
            "Epoch 16/50\n",
            "196/196 [==============================] - 37s 191ms/step - loss: 3.1703 - acc: 0.2197 - top-5-acc: 0.5102 - val_loss: 2.9908 - val_acc: 0.2601 - val_top-5-acc: 0.5609\n",
            "Epoch 17/50\n",
            "196/196 [==============================] - 37s 191ms/step - loss: 3.0988 - acc: 0.2323 - top-5-acc: 0.5275 - val_loss: 2.9292 - val_acc: 0.2802 - val_top-5-acc: 0.5708\n",
            "Epoch 18/50\n",
            "196/196 [==============================] - 37s 191ms/step - loss: 3.0475 - acc: 0.2445 - top-5-acc: 0.5409 - val_loss: 2.9031 - val_acc: 0.2820 - val_top-5-acc: 0.5797\n",
            "Epoch 19/50\n",
            "196/196 [==============================] - 37s 191ms/step - loss: 2.9997 - acc: 0.2540 - top-5-acc: 0.5535 - val_loss: 2.8455 - val_acc: 0.2948 - val_top-5-acc: 0.5886\n",
            "Epoch 20/50\n",
            "196/196 [==============================] - 37s 190ms/step - loss: 2.9429 - acc: 0.2638 - top-5-acc: 0.5663 - val_loss: 2.8104 - val_acc: 0.2980 - val_top-5-acc: 0.5982\n",
            "Epoch 21/50\n",
            "196/196 [==============================] - 37s 190ms/step - loss: 2.9118 - acc: 0.2706 - top-5-acc: 0.5722 - val_loss: 2.7828 - val_acc: 0.3026 - val_top-5-acc: 0.6060\n",
            "Epoch 22/50\n",
            "196/196 [==============================] - 37s 191ms/step - loss: 2.8627 - acc: 0.2814 - top-5-acc: 0.5883 - val_loss: 2.7381 - val_acc: 0.3154 - val_top-5-acc: 0.6168\n",
            "Epoch 23/50\n",
            "196/196 [==============================] - 37s 191ms/step - loss: 2.8245 - acc: 0.2867 - top-5-acc: 0.5962 - val_loss: 2.7172 - val_acc: 0.3216 - val_top-5-acc: 0.6151\n",
            "Epoch 24/50\n",
            "196/196 [==============================] - 37s 190ms/step - loss: 2.7805 - acc: 0.2961 - top-5-acc: 0.6055 - val_loss: 2.7191 - val_acc: 0.3175 - val_top-5-acc: 0.6180\n",
            "Epoch 25/50\n",
            "196/196 [==============================] - 37s 190ms/step - loss: 2.7410 - acc: 0.3046 - top-5-acc: 0.6126 - val_loss: 2.6845 - val_acc: 0.3239 - val_top-5-acc: 0.6189\n",
            "Epoch 26/50\n",
            "196/196 [==============================] - 37s 190ms/step - loss: 2.7028 - acc: 0.3130 - top-5-acc: 0.6245 - val_loss: 2.6366 - val_acc: 0.3390 - val_top-5-acc: 0.6343\n",
            "Epoch 27/50\n",
            "196/196 [==============================] - 37s 190ms/step - loss: 2.6705 - acc: 0.3205 - top-5-acc: 0.6316 - val_loss: 2.6374 - val_acc: 0.3332 - val_top-5-acc: 0.6388\n",
            "Epoch 28/50\n",
            "196/196 [==============================] - 37s 190ms/step - loss: 2.6379 - acc: 0.3250 - top-5-acc: 0.6393 - val_loss: 2.6558 - val_acc: 0.3319 - val_top-5-acc: 0.6309\n",
            "Epoch 29/50\n",
            "196/196 [==============================] - 37s 190ms/step - loss: 2.6257 - acc: 0.3278 - top-5-acc: 0.6403 - val_loss: 2.5779 - val_acc: 0.3503 - val_top-5-acc: 0.6493\n",
            "Epoch 30/50\n",
            "196/196 [==============================] - 37s 190ms/step - loss: 2.5855 - acc: 0.3371 - top-5-acc: 0.6502 - val_loss: 2.5683 - val_acc: 0.3509 - val_top-5-acc: 0.6516\n",
            "Epoch 31/50\n",
            "196/196 [==============================] - 37s 190ms/step - loss: 2.5602 - acc: 0.3411 - top-5-acc: 0.6556 - val_loss: 2.5630 - val_acc: 0.3534 - val_top-5-acc: 0.6517\n",
            "Epoch 32/50\n",
            "196/196 [==============================] - 37s 190ms/step - loss: 2.5307 - acc: 0.3452 - top-5-acc: 0.6628 - val_loss: 2.5281 - val_acc: 0.3622 - val_top-5-acc: 0.6601\n",
            "Epoch 33/50\n",
            "196/196 [==============================] - 37s 190ms/step - loss: 2.5037 - acc: 0.3543 - top-5-acc: 0.6697 - val_loss: 2.5125 - val_acc: 0.3582 - val_top-5-acc: 0.6619\n",
            "Epoch 34/50\n",
            "196/196 [==============================] - 37s 191ms/step - loss: 2.4700 - acc: 0.3594 - top-5-acc: 0.6774 - val_loss: 2.5340 - val_acc: 0.3594 - val_top-5-acc: 0.6541\n",
            "Epoch 35/50\n",
            "196/196 [==============================] - 38s 192ms/step - loss: 2.4535 - acc: 0.3644 - top-5-acc: 0.6798 - val_loss: 2.5067 - val_acc: 0.3672 - val_top-5-acc: 0.6646\n",
            "Epoch 36/50\n",
            "196/196 [==============================] - 38s 192ms/step - loss: 2.4266 - acc: 0.3680 - top-5-acc: 0.6859 - val_loss: 2.4932 - val_acc: 0.3677 - val_top-5-acc: 0.6659\n",
            "Epoch 37/50\n",
            "196/196 [==============================] - 38s 192ms/step - loss: 2.3937 - acc: 0.3753 - top-5-acc: 0.6932 - val_loss: 2.4892 - val_acc: 0.3683 - val_top-5-acc: 0.6668\n",
            "Epoch 38/50\n",
            "196/196 [==============================] - 38s 192ms/step - loss: 2.3764 - acc: 0.3766 - top-5-acc: 0.6953 - val_loss: 2.4739 - val_acc: 0.3709 - val_top-5-acc: 0.6690\n",
            "Epoch 39/50\n",
            "196/196 [==============================] - 38s 193ms/step - loss: 2.3436 - acc: 0.3868 - top-5-acc: 0.7022 - val_loss: 2.4619 - val_acc: 0.3713 - val_top-5-acc: 0.6714\n",
            "Epoch 40/50\n",
            "196/196 [==============================] - 38s 193ms/step - loss: 2.3417 - acc: 0.3833 - top-5-acc: 0.7039 - val_loss: 2.4510 - val_acc: 0.3794 - val_top-5-acc: 0.6739\n",
            "Epoch 41/50\n",
            "196/196 [==============================] - 38s 193ms/step - loss: 2.2907 - acc: 0.3985 - top-5-acc: 0.7143 - val_loss: 2.4602 - val_acc: 0.3819 - val_top-5-acc: 0.6722\n",
            "Epoch 42/50\n",
            "196/196 [==============================] - 38s 193ms/step - loss: 2.2809 - acc: 0.3990 - top-5-acc: 0.7181 - val_loss: 2.4404 - val_acc: 0.3854 - val_top-5-acc: 0.6771\n",
            "Epoch 43/50\n",
            "196/196 [==============================] - 38s 193ms/step - loss: 2.2665 - acc: 0.4024 - top-5-acc: 0.7198 - val_loss: 2.4321 - val_acc: 0.3893 - val_top-5-acc: 0.6806\n",
            "Epoch 44/50\n",
            "196/196 [==============================] - 38s 193ms/step - loss: 2.2494 - acc: 0.4060 - top-5-acc: 0.7221 - val_loss: 2.4719 - val_acc: 0.3698 - val_top-5-acc: 0.6702\n",
            "Epoch 45/50\n",
            "196/196 [==============================] - 38s 193ms/step - loss: 2.2271 - acc: 0.4088 - top-5-acc: 0.7280 - val_loss: 2.4101 - val_acc: 0.3878 - val_top-5-acc: 0.6809\n",
            "Epoch 46/50\n",
            "196/196 [==============================] - 38s 193ms/step - loss: 2.1970 - acc: 0.4144 - top-5-acc: 0.7345 - val_loss: 2.4080 - val_acc: 0.3944 - val_top-5-acc: 0.6846\n",
            "Epoch 47/50\n",
            "196/196 [==============================] - 38s 193ms/step - loss: 2.1759 - acc: 0.4184 - top-5-acc: 0.7378 - val_loss: 2.4106 - val_acc: 0.3895 - val_top-5-acc: 0.6824\n",
            "Epoch 48/50\n",
            "196/196 [==============================] - 38s 193ms/step - loss: 2.1699 - acc: 0.4227 - top-5-acc: 0.7399 - val_loss: 2.3884 - val_acc: 0.3941 - val_top-5-acc: 0.6858\n",
            "Epoch 49/50\n",
            "196/196 [==============================] - 38s 193ms/step - loss: 2.1455 - acc: 0.4294 - top-5-acc: 0.7441 - val_loss: 2.3798 - val_acc: 0.3950 - val_top-5-acc: 0.6885\n",
            "Epoch 50/50\n",
            "196/196 [==============================] - 38s 193ms/step - loss: 2.1210 - acc: 0.4314 - top-5-acc: 0.7483 - val_loss: 2.3738 - val_acc: 0.3947 - val_top-5-acc: 0.6928\n"
          ]
        }
      ]
    },
    {
      "cell_type": "code",
      "source": [],
      "metadata": {
        "id": "nkvqS7up8Zpx"
      },
      "execution_count": null,
      "outputs": []
    }
  ]
}