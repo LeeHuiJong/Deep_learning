{
  "cells": [
    {
      "cell_type": "markdown",
      "metadata": {
        "id": "view-in-github",
        "colab_type": "text"
      },
      "source": [
        "<a href=\"https://colab.research.google.com/github/LeeHuiJong/-Deep_learning/blob/main/ch04_03_Generative_Model_DCGAN.ipynb\" target=\"_parent\"><img src=\"https://colab.research.google.com/assets/colab-badge.svg\" alt=\"Open In Colab\"/></a>"
      ]
    },
    {
      "cell_type": "markdown",
      "metadata": {
        "id": "sWs2kEC1_b-P"
      },
      "source": [
        "# ch04.03 Generative Model - DCGAN\n",
        "\n",
        "* 날짜:\n",
        "* 이름:\n",
        "\n",
        "## 학습내용\n",
        "    - 딥러닝 생성모델에 대해 이해한다.\n",
        "    - Deep Convolutional Generative Adversarial Networks 를 구현한다.\n",
        "\n",
        "> https://arxiv.org/pdf/1406.2661.pdf\n",
        "\n"
      ]
    },
    {
      "cell_type": "markdown",
      "source": [
        "## 실습\n",
        "---"
      ],
      "metadata": {
        "id": "jMQVMO2c0X-X"
      }
    },
    {
      "cell_type": "markdown",
      "source": [
        "### | **모델 구현**\n",
        "<p  align='center'>\n",
        "<img src ='https://github.com/yebiny/SkillTreePython-DeepLearning/blob/main/imgs/ch0403-02.PNG?raw=true' width=800>\n",
        "</p>"
      ],
      "metadata": {
        "id": "7UGTVvVDz5bq"
      }
    },
    {
      "cell_type": "code",
      "source": [
        "import tensorflow as tf\n",
        "from tensorflow.keras import models, layers, utils\n",
        "\n",
        "def build_gene(z_dim=64, img_shape=(28,28,1)):\n",
        "  h, w, c = img_shape\n",
        "  # 길이가 (z_dim) 벡터 \n",
        "  z = layers.Input(shape=[z_dim])\n",
        "\n",
        "  y = layers.Dense( int(w/4)*int(h/4)*8 , activation='relu')(z)\n",
        "  y = layers.Reshape( [int(w/4),int(h/4),8] )(y)\n",
        "  y = layers.BatchNormalization()(y)\n",
        "  y = layers.Conv2DTranspose(16, kernel_size=3, padding='same', strides=2, activation='relu')(y)\n",
        "  y = layers.BatchNormalization()(y)\n",
        "\n",
        "  # 크기가 img_shape = (h, w, c) 텐서\n",
        "  y = layers.Conv2DTranspose(c, kernel_size=3, padding='same', strides=2, activation='sigmoid')(y)\n",
        "  \n",
        "  return models.Model(z, y, name='Generator')\n",
        "\n",
        "def build_disc(img_shape=(28,28,1)):\n",
        "  x = layers.Input(shape=img_shape)\n",
        "  y = layers.Conv2D(16, kernel_size=3, strides=2, padding='same', activation='relu')(x)\n",
        "  y = layers.Dropout(.5)(y)\n",
        "  y = layers.Conv2D(32, kernel_size=3, strides=2, padding='same', activation='relu')(y)\n",
        "  y = layers.Dropout(.5)(y)\n",
        "  y = layers.Flatten()(y)\n",
        "  y = layers.Dense(128, activation='relu')(y)\n",
        "  y = layers.Dropout(.5)(y)\n",
        "  y = layers.Dense(1, activation='sigmoid')(y)\n",
        "  return models.Model(x, y, name='Discriminator')\n",
        "\n",
        "def build_gan(z_dim, img_shape):\n",
        "  gene = build_gene(z_dim, img_shape)\n",
        "  disc = build_disc(img_shape)\n",
        "\n",
        "  z = layers.Input(shape=[z_dim])\n",
        "  fake_img = gene(z)\n",
        "  logit = disc(fake_img)\n",
        "  return models.Model(z, logit, name='GAN')\n",
        "\n",
        "gan = build_gan(128, (32,32,3))\n",
        "gan.summary()"
      ],
      "metadata": {
        "id": "AXVQL72Gz7ua",
        "colab": {
          "base_uri": "https://localhost:8080/"
        },
        "outputId": "889992f2-40f7-4c13-878f-255ab5aa0fce"
      },
      "execution_count": 20,
      "outputs": [
        {
          "output_type": "stream",
          "name": "stdout",
          "text": [
            "Model: \"GAN\"\n",
            "_________________________________________________________________\n",
            " Layer (type)                Output Shape              Param #   \n",
            "=================================================================\n",
            " input_23 (InputLayer)       [(None, 128)]             0         \n",
            "                                                                 \n",
            " Generator (Functional)      (None, 32, 32, 3)         67747     \n",
            "                                                                 \n",
            " Discriminator (Functional)  (None, 1)                 267489    \n",
            "                                                                 \n",
            "=================================================================\n",
            "Total params: 335,236\n",
            "Trainable params: 335,188\n",
            "Non-trainable params: 48\n",
            "_________________________________________________________________\n"
          ]
        }
      ]
    },
    {
      "cell_type": "code",
      "source": [
        "import matplotlib.pyplot as plt\n",
        "\n",
        "z = tf.random.normal([1, 64])\n",
        "fake_img = g.predict(z)\n",
        "print(z.shape, fake_img.shape)\n",
        "plt.imshow(fake_img[0,:,:,0], cmap = 'gray');plt.xticks([]);plt.yticks([])\n",
        "plt.show()\n",
        "logit = d.predict(fake_img)\n",
        "print(logit)"
      ],
      "metadata": {
        "id": "x1gA41Sq0hfM",
        "colab": {
          "base_uri": "https://localhost:8080/",
          "height": 1000
        },
        "outputId": "45be4b62-4935-441f-9da1-2b2283868aa3"
      },
      "execution_count": 17,
      "outputs": [
        {
          "output_type": "stream",
          "name": "stdout",
          "text": [
            "(1, 64) (1, 28, 28, 1)\n"
          ]
        },
        {
          "output_type": "display_data",
          "data": {
            "text/plain": [
              "<Figure size 432x288 with 1 Axes>"
            ],
            "image/png": "[encoded data removed]"
          },
          "metadata": {}
        },
        {
          "output_type": "stream",
          "name": "stdout",
          "text": [
            "[[[[0.5015304 ]\n",
            "   [0.5011623 ]\n",
            "   [0.50112474]\n",
            "   [0.5016754 ]\n",
            "   [0.50112545]\n",
            "   [0.5016764 ]\n",
            "   [0.5049885 ]]\n",
            "\n",
            "  [[0.5013853 ]\n",
            "   [0.50146645]\n",
            "   [0.5015813 ]\n",
            "   [0.501452  ]\n",
            "   [0.5014937 ]\n",
            "   [0.50141126]\n",
            "   [0.5049208 ]]\n",
            "\n",
            "  [[0.50108355]\n",
            "   [0.5021397 ]\n",
            "   [0.5012959 ]\n",
            "   [0.5014142 ]\n",
            "   [0.5012494 ]\n",
            "   [0.501678  ]\n",
            "   [0.5047728 ]]\n",
            "\n",
            "  [[0.5014758 ]\n",
            "   [0.5015085 ]\n",
            "   [0.50161827]\n",
            "   [0.50130385]\n",
            "   [0.50129056]\n",
            "   [0.50153196]\n",
            "   [0.5050502 ]]\n",
            "\n",
            "  [[0.5018579 ]\n",
            "   [0.5014737 ]\n",
            "   [0.50134784]\n",
            "   [0.5018704 ]\n",
            "   [0.5018594 ]\n",
            "   [0.501352  ]\n",
            "   [0.5050332 ]]\n",
            "\n",
            "  [[0.5015406 ]\n",
            "   [0.5014199 ]\n",
            "   [0.50150186]\n",
            "   [0.50143045]\n",
            "   [0.5024265 ]\n",
            "   [0.5016186 ]\n",
            "   [0.5049028 ]]\n",
            "\n",
            "  [[0.4974823 ]\n",
            "   [0.49769652]\n",
            "   [0.49779662]\n",
            "   [0.49744147]\n",
            "   [0.49721408]\n",
            "   [0.49714607]\n",
            "   [0.5004668 ]]]]\n"
          ]
        }
      ]
    },
    {
      "cell_type": "code",
      "source": [
        ""
      ],
      "metadata": {
        "id": "yYNlwoW10hhO"
      },
      "execution_count": null,
      "outputs": []
    },
    {
      "cell_type": "markdown",
      "source": [
        "### **| 학습**\n",
        "<p  align='center'>\n",
        "<img src ='https://github.com/yebiny/SkillTreePython-DeepLearning/blob/main/imgs/ch0403-01.PNG?raw=true' width=600>\n",
        "</p>"
      ],
      "metadata": {
        "id": "MF-TIS4sz33n"
      }
    },
    {
      "cell_type": "code",
      "execution_count": null,
      "metadata": {
        "id": "xiAiqtvxjnyx"
      },
      "outputs": [],
      "source": [
        ""
      ]
    },
    {
      "cell_type": "code",
      "execution_count": null,
      "metadata": {
        "id": "Hq-gEQ_0jb7Q"
      },
      "outputs": [],
      "source": [
        ""
      ]
    },
    {
      "cell_type": "code",
      "execution_count": null,
      "metadata": {
        "id": "_03gyRv4EiBd"
      },
      "outputs": [],
      "source": [
        ""
      ]
    },
    {
      "cell_type": "code",
      "execution_count": null,
      "metadata": {
        "id": "z63QfQEPOoiR"
      },
      "outputs": [],
      "source": [
        ""
      ]
    },
    {
      "cell_type": "code",
      "execution_count": null,
      "metadata": {
        "id": "dnWu5rT8khwc"
      },
      "outputs": [],
      "source": [
        ""
      ]
    },
    {
      "cell_type": "code",
      "execution_count": null,
      "metadata": {
        "id": "h7YYGP-tpUUd"
      },
      "outputs": [],
      "source": [
        ""
      ]
    },
    {
      "cell_type": "code",
      "execution_count": null,
      "metadata": {
        "id": "pWj4IvnQyj5d"
      },
      "outputs": [],
      "source": [
        ""
      ]
    },
    {
      "cell_type": "code",
      "execution_count": null,
      "metadata": {
        "id": "60LsTCyMknNV"
      },
      "outputs": [],
      "source": [
        ""
      ]
    },
    {
      "cell_type": "code",
      "execution_count": null,
      "metadata": {
        "id": "SpZdXBDxndaQ"
      },
      "outputs": [],
      "source": [
        ""
      ]
    },
    {
      "cell_type": "code",
      "execution_count": null,
      "metadata": {
        "id": "eLMZIDHw_wkR"
      },
      "outputs": [],
      "source": [
        ""
      ]
    }
  ],
  "metadata": {
    "accelerator": "GPU",
    "colab": {
      "collapsed_sections": [],
      "machine_shape": "hm",
      "name": "ch04_03_Generative_Model_DCGAN.ipynb",
      "provenance": [],
      "include_colab_link": true
    },
    "gpuClass": "standard",
    "kernelspec": {
      "display_name": "Python 3",
      "name": "python3"
    },
    "language_info": {
      "name": "python"
    }
  },
  "nbformat": 4,
  "nbformat_minor": 0
}